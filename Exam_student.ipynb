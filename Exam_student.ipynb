{
 "cells": [
  {
   "cell_type": "markdown",
   "metadata": {},
   "source": [
    "# Exam R\n",
    "Mark Klik & Misja Mikkers\n",
    "\n",
    "# Introduction\n",
    "\n",
    "The exam consists of 2 parts. In the first part, you have to run a regression, test if the assumptions of a linear regression model are met, and make 2 graphs.\n",
    "\n",
    "In the second part of the exam, you will have to make a map of Catholic and Protestant schools in the Netherlands.\n",
    "\n",
    "# Packages\n"
   ]
  },
  {
   "cell_type": "code",
   "execution_count": 1,
   "metadata": {},
   "outputs": [
    {
     "name": "stdout",
     "output_type": "stream",
     "text": [
      "package 'gvlma' successfully unpacked and MD5 sums checked\n",
      "\n",
      "The downloaded binary packages are in\n",
      "\tC:\\Users\\eigenaar\\AppData\\Local\\Temp\\Rtmpw9EUUw\\downloaded_packages\n"
     ]
    },
    {
     "name": "stderr",
     "output_type": "stream",
     "text": [
      "-- Attaching packages --------------------------------------- tidyverse 1.2.1 --\n",
      "v ggplot2 2.2.1     v purrr   0.2.4\n",
      "v tibble  1.4.1     v dplyr   0.7.4\n",
      "v tidyr   0.7.2     v stringr 1.2.0\n",
      "v readr   1.1.1     v forcats 0.2.0\n",
      "-- Conflicts ------------------------------------------ tidyverse_conflicts() --\n",
      "x dplyr::filter() masks stats::filter()\n",
      "x dplyr::lag()    masks stats::lag()\n"
     ]
    }
   ],
   "source": [
    "install.packages('gvlma', repos='http://cran.us.r-project.org')\n",
    "\n",
    "library(tidyverse)\n",
    "library(gvlma)\n"
   ]
  },
  {
   "cell_type": "markdown",
   "metadata": {},
   "source": [
    "# Assignment 1\n",
    "\n",
    "\n",
    "## Data\n",
    "\n",
    "The data are given:\n"
   ]
  },
  {
   "cell_type": "code",
   "execution_count": 2,
   "metadata": {},
   "outputs": [],
   "source": [
    "set.seed(123)\n",
    "df1 <- as.data.frame(matrix(runif(1*50, min = 1, max = 10), ncol = 1)) %>%\n",
    "    mutate(epsilon = rnorm(50, mean = 0, sd = 2)) %>%\n",
    "    mutate(response = 3 - 2* V1  + epsilon) %>%\n",
    "    mutate(group = ifelse(V1 <= 5, 1,2))"
   ]
  },
  {
   "cell_type": "markdown",
   "metadata": {},
   "source": [
    "## Asignment 1a\n",
    "\n",
    "The first assigment is to make boxplot using ggplot with group on the x-axis and V1 on the y-axis."
   ]
  },
  {
   "cell_type": "code",
   "execution_count": 3,
   "metadata": {
    "scrolled": false
   },
   "outputs": [
    {
     "data": {},
     "metadata": {},
     "output_type": "display_data"
    },
    {
     "data": {
      "image/png": "[encoded data removed]",
      "text/plain": [
       "plot without title"
      ]
     },
     "metadata": {},
     "output_type": "display_data"
    }
   ],
   "source": [
    "    #We use ggplot to plot graphs, with geom_boxplot() we specify what kind of graph this will be.\n",
    "ggplot(data = df1, aes(x = group, y = V1, colour=\"red\")) +\n",
    "  geom_boxplot() \n",
    "\n"
   ]
  },
  {
   "cell_type": "markdown",
   "metadata": {},
   "source": [
    "## Assignment 1b\n",
    "\n",
    "Run a regression with response variable as a function of V1.\n",
    "Show the summary statistics of the regression.\n"
   ]
  },
  {
   "cell_type": "code",
   "execution_count": 114,
   "metadata": {},
   "outputs": [
    {
     "data": {
      "text/plain": [
       "\n",
       "Call:\n",
       "lm(formula = response ~ V1, data = df1)\n",
       "\n",
       "Residuals:\n",
       "    Min      1Q  Median      3Q     Max \n",
       "-4.5116 -1.1157 -0.1313  1.0985  4.3723 \n",
       "\n",
       "Coefficients:\n",
       "            Estimate Std. Error t value Pr(>|t|)    \n",
       "(Intercept)   2.6305     0.6347   4.145 0.000138 ***\n",
       "V1           -1.9152     0.1014 -18.880  < 2e-16 ***\n",
       "---\n",
       "Signif. codes:  0 '***' 0.001 '**' 0.01 '*' 0.05 '.' 0.1 ' ' 1\n",
       "\n",
       "Residual standard error: 1.881 on 48 degrees of freedom\n",
       "Multiple R-squared:  0.8813,\tAdjusted R-squared:  0.8788 \n",
       "F-statistic: 356.4 on 1 and 48 DF,  p-value: < 2.2e-16\n"
      ]
     },
     "metadata": {},
     "output_type": "display_data"
    }
   ],
   "source": [
    "reg1 <- lm(data=df1, response~V1)\n",
    "\n",
    "summary(reg1)\n"
   ]
  },
  {
   "cell_type": "markdown",
   "metadata": {},
   "source": [
    "check if the assumptions of linear regression are met with the `gvlma()` function."
   ]
  },
  {
   "cell_type": "code",
   "execution_count": 115,
   "metadata": {},
   "outputs": [
    {
     "data": {
      "text/plain": [
       "\n",
       "Call:\n",
       "lm(formula = response ~ V1, data = df1)\n",
       "\n",
       "Coefficients:\n",
       "(Intercept)           V1  \n",
       "      2.630       -1.915  \n",
       "\n",
       "\n",
       "ASSESSMENT OF THE LINEAR MODEL ASSUMPTIONS\n",
       "USING THE GLOBAL TEST ON 4 DEGREES-OF-FREEDOM:\n",
       "Level of Significance =  0.05 \n",
       "\n",
       "Call:\n",
       " gvlma(x = reg1) \n",
       "\n",
       "                      Value p-value                Decision\n",
       "Global Stat        0.654319  0.9568 Assumptions acceptable.\n",
       "Skewness           0.002398  0.9609 Assumptions acceptable.\n",
       "Kurtosis           0.007200  0.9324 Assumptions acceptable.\n",
       "Link Function      0.005852  0.9390 Assumptions acceptable.\n",
       "Heteroscedasticity 0.638869  0.4241 Assumptions acceptable."
      ]
     },
     "metadata": {},
     "output_type": "display_data"
    }
   ],
   "source": [
    "    #We use the gvlma function to check the linear regression that we determined above.\n",
    "gvlma(reg1)"
   ]
  },
  {
   "cell_type": "markdown",
   "metadata": {},
   "source": [
    "## Assignment 1c\n",
    "\n",
    "Make a scatterplot with: \n",
    "* V1 on the x-axis and the response on the y-axis\n",
    "* Include the regression line in red with confidence interval \n",
    "* In a classic theme\n",
    "* The x-axis should be labeled \"Predictor\", the y-axis should be labeled (\"Response\")\n",
    "\n"
   ]
  },
  {
   "cell_type": "code",
   "execution_count": 130,
   "metadata": {},
   "outputs": [
    {
     "data": {},
     "metadata": {},
     "output_type": "display_data"
    },
    {
     "data": {
      "image/png": "[encoded data removed]",
      "text/plain": [
       "plot without title"
      ]
     },
     "metadata": {},
     "output_type": "display_data"
    }
   ],
   "source": [
    "    #Once again we use ggplot, and now we specify the graph with geom_point().\n",
    "ggplot(df1, aes(x = V1, y = response), abline(lm(response~V1))) +\n",
    "  geom_point(shape=16, size=2, colour=\"blue\")+\n",
    "xlab(\"Predictor\")+\n",
    "ylab(\"Response\")\n",
    "\n",
    "\n",
    "\n"
   ]
  },
  {
   "cell_type": "markdown",
   "metadata": {},
   "source": [
    "# Assigment 2\n",
    "\n",
    "# Packages"
   ]
  },
  {
   "cell_type": "code",
   "execution_count": 7,
   "metadata": {},
   "outputs": [
    {
     "name": "stdout",
     "output_type": "stream",
     "text": [
      "package 'maptools' successfully unpacked and MD5 sums checked\n",
      "package 'rgdal' successfully unpacked and MD5 sums checked\n",
      "package 'rgeos' successfully unpacked and MD5 sums checked\n",
      "\n",
      "The downloaded binary packages are in\n",
      "\tC:\\Users\\eigenaar\\AppData\\Local\\Temp\\Rtmpw9EUUw\\downloaded_packages\n"
     ]
    },
    {
     "name": "stderr",
     "output_type": "stream",
     "text": [
      "Loading required package: maptools\n",
      "Loading required package: sp\n",
      "Warning message:\n",
      "\"package 'sp' was built under R version 3.4.4\"Checking rgeos availability: TRUE\n",
      "Loading required package: digest\n",
      "Loading required package: rgdal\n",
      "rgdal: version: 1.2-8, (SVN revision 663)\n",
      " Geospatial Data Abstraction Library extensions to R successfully loaded\n",
      " Loaded GDAL runtime: GDAL 2.0.1, released 2015/09/15\n",
      " Path to GDAL shared files: C:/Users/eigenaar/Anaconda3/Lib/R/library/rgdal/gdal\n",
      " Loaded PROJ.4 runtime: Rel. 4.9.2, 08 September 2015, [PJ_VERSION: 492]\n",
      " Path to PROJ.4 shared files: C:/Users/eigenaar/Anaconda3/Lib/R/library/rgdal/proj\n",
      " Linking to sp version: 1.2-5 \n",
      "Loading required package: rgeos\n",
      "rgeos version: 0.3-23, (SVN revision 546)\n",
      " GEOS runtime version: 3.5.0-CAPI-1.9.0 r4084 \n",
      " Linking to sp version: 1.2-5 \n",
      " Polygon checking: TRUE \n",
      "\n",
      "Loading required package: grid\n"
     ]
    }
   ],
   "source": [
    "install.packages(c(\"maptools\",\"rgdal\",\"rgeos\"))\n",
    "install.packages(\"../Package//thematicmaps_2.1.tar.gz\", repos=NULL, type = \"source\")\n",
    "library(thematicmaps)\n",
    "library(tidyverse)"
   ]
  },
  {
   "cell_type": "markdown",
   "metadata": {},
   "source": [
    "## Assignment 2a\n",
    "\n",
    "First you have to read in the file \"nld_municipal_map.csv\".\n",
    "Hint: Look at the notebook of week 6 about maps."
   ]
  },
  {
   "cell_type": "code",
   "execution_count": 9,
   "metadata": {},
   "outputs": [
    {
     "data": {
      "text/html": [
       "<table>\n",
       "<thead><tr><th scope=col>name</th><th scope=col>id</th><th scope=col>x</th><th scope=col>y</th><th scope=col>order</th><th scope=col>hole</th><th scope=col>piece</th><th scope=col>group</th></tr></thead>\n",
       "<tbody>\n",
       "\t<tr><td>Appingedam</td><td>0         </td><td>251260.5  </td><td>594393.8  </td><td>1         </td><td>FALSE     </td><td>1         </td><td>0.1       </td></tr>\n",
       "\t<tr><td>Appingedam</td><td>0         </td><td>251427.8  </td><td>594486.7  </td><td>2         </td><td>FALSE     </td><td>1         </td><td>0.1       </td></tr>\n",
       "\t<tr><td>Appingedam</td><td>0         </td><td>251668.8  </td><td>594646.8  </td><td>3         </td><td>FALSE     </td><td>1         </td><td>0.1       </td></tr>\n",
       "\t<tr><td>Appingedam</td><td>0         </td><td>251713.5  </td><td>594770.9  </td><td>4         </td><td>FALSE     </td><td>1         </td><td>0.1       </td></tr>\n",
       "\t<tr><td>Appingedam</td><td>0         </td><td>251354.6  </td><td>595461.4  </td><td>5         </td><td>FALSE     </td><td>1         </td><td>0.1       </td></tr>\n",
       "\t<tr><td>Appingedam</td><td>0         </td><td>251310.3  </td><td>596022.5  </td><td>6         </td><td>FALSE     </td><td>1         </td><td>0.1       </td></tr>\n",
       "</tbody>\n",
       "</table>\n"
      ],
      "text/latex": [
       "\\begin{tabular}{r|llllllll}\n",
       " name & id & x & y & order & hole & piece & group\\\\\n",
       "\\hline\n",
       "\t Appingedam & 0          & 251260.5   & 594393.8   & 1          & FALSE      & 1          & 0.1       \\\\\n",
       "\t Appingedam & 0          & 251427.8   & 594486.7   & 2          & FALSE      & 1          & 0.1       \\\\\n",
       "\t Appingedam & 0          & 251668.8   & 594646.8   & 3          & FALSE      & 1          & 0.1       \\\\\n",
       "\t Appingedam & 0          & 251713.5   & 594770.9   & 4          & FALSE      & 1          & 0.1       \\\\\n",
       "\t Appingedam & 0          & 251354.6   & 595461.4   & 5          & FALSE      & 1          & 0.1       \\\\\n",
       "\t Appingedam & 0          & 251310.3   & 596022.5   & 6          & FALSE      & 1          & 0.1       \\\\\n",
       "\\end{tabular}\n"
      ],
      "text/markdown": [
       "\n",
       "name | id | x | y | order | hole | piece | group | \n",
       "|---|---|---|---|---|---|\n",
       "| Appingedam | 0          | 251260.5   | 594393.8   | 1          | FALSE      | 1          | 0.1        | \n",
       "| Appingedam | 0          | 251427.8   | 594486.7   | 2          | FALSE      | 1          | 0.1        | \n",
       "| Appingedam | 0          | 251668.8   | 594646.8   | 3          | FALSE      | 1          | 0.1        | \n",
       "| Appingedam | 0          | 251713.5   | 594770.9   | 4          | FALSE      | 1          | 0.1        | \n",
       "| Appingedam | 0          | 251354.6   | 595461.4   | 5          | FALSE      | 1          | 0.1        | \n",
       "| Appingedam | 0          | 251310.3   | 596022.5   | 6          | FALSE      | 1          | 0.1        | \n",
       "\n",
       "\n"
      ],
      "text/plain": [
       "  name       id x        y        order hole  piece group\n",
       "1 Appingedam 0  251260.5 594393.8 1     FALSE 1     0.1  \n",
       "2 Appingedam 0  251427.8 594486.7 2     FALSE 1     0.1  \n",
       "3 Appingedam 0  251668.8 594646.8 3     FALSE 1     0.1  \n",
       "4 Appingedam 0  251713.5 594770.9 4     FALSE 1     0.1  \n",
       "5 Appingedam 0  251354.6 595461.4 5     FALSE 1     0.1  \n",
       "6 Appingedam 0  251310.3 596022.5 6     FALSE 1     0.1  "
      ]
     },
     "metadata": {},
     "output_type": "display_data"
    }
   ],
   "source": [
    "    #We use a downloaded package (Located in the Package map) which we read with the function read.csv2.\n",
    "map_municipal <- read.csv2(\"../Package/nld_municipal_map.csv\", stringsAsFactors = FALSE, dec = \".\")\n",
    "head(map_municipal)"
   ]
  },
  {
   "cell_type": "markdown",
   "metadata": {},
   "source": [
    "## Assignment 2b\n",
    "\n",
    "Now you can make an empty map of the Netherlands."
   ]
  },
  {
   "cell_type": "code",
   "execution_count": 10,
   "metadata": {},
   "outputs": [
    {
     "data": {},
     "metadata": {},
     "output_type": "display_data"
    },
    {
     "data": {
      "image/png": "[encoded data removed]",
      "text/plain": [
       "plot without title"
      ]
     },
     "metadata": {},
     "output_type": "display_data"
    }
   ],
   "source": [
    "    #We use the thematicmaps for this.\n",
    "\n",
    "AddMapLayer(MapPlot(), map_municipal)\n"
   ]
  },
  {
   "cell_type": "markdown",
   "metadata": {},
   "source": [
    "## Assignment 2c\n",
    "\n",
    "Read in the pc4 locations (nld_pc4_locations.csv).\n",
    "\n",
    "Hint: Don't forget the X and Y should be numeric variables!"
   ]
  },
  {
   "cell_type": "code",
   "execution_count": 11,
   "metadata": {},
   "outputs": [
    {
     "name": "stdout",
     "output_type": "stream",
     "text": [
      "'data.frame':\t4066 obs. of  3 variables:\n",
      " $ PC4: int  1011 1012 1013 1014 1015 1016 1017 1018 1019 1021 ...\n",
      " $ X  : num  122244 121613 120325 119515 120740 ...\n",
      " $ Y  : num  487223 487555 489672 489422 488009 ...\n"
     ]
    }
   ],
   "source": [
    "    #We again use read.csv2 to read the file located in Package.\n",
    "pc4_locations <- read.csv2(\"../Package/nld_pc4_locations.csv\")%>%\n",
    "  mutate(X = as.numeric(as.character(X))) %>%\n",
    "   mutate(Y = as.numeric(as.character(Y)))\n",
    "\n",
    "str(pc4_locations)"
   ]
  },
  {
   "cell_type": "markdown",
   "metadata": {},
   "source": [
    "## Assignment 2d\n",
    "\n",
    "### 2di\n",
    "\n",
    "Read in the school data\n"
   ]
  },
  {
   "cell_type": "code",
   "execution_count": 90,
   "metadata": {},
   "outputs": [
    {
     "data": {
      "text/html": [
       "<ol class=list-inline>\n",
       "\t<li>'PROVINCIE'</li>\n",
       "\t<li>'BEVOEGD.GEZAG.NUMMER'</li>\n",
       "\t<li>'BRIN.NUMMER'</li>\n",
       "\t<li>'VESTIGINGSNUMMER'</li>\n",
       "\t<li>'VESTIGINGSNAAM'</li>\n",
       "\t<li>'STRAATNAAM'</li>\n",
       "\t<li>'HUISNUMMER.TOEVOEGING'</li>\n",
       "\t<li>'POSTCODE'</li>\n",
       "\t<li>'PLAATSNAAM'</li>\n",
       "\t<li>'GEMEENTENUMMER'</li>\n",
       "\t<li>'GEMEENTENAAM'</li>\n",
       "\t<li>'DENOMINATIE'</li>\n",
       "\t<li>'TELEFOONNUMMER'</li>\n",
       "\t<li>'INTERNETADRES'</li>\n",
       "\t<li>'ONDERWIJSSTRUCTUUR'</li>\n",
       "\t<li>'STRAATNAAM.CORRESPONDENTIEADRES'</li>\n",
       "\t<li>'HUISNUMMER.TOEVOEGING.CORRESPONDENTIEADRES'</li>\n",
       "\t<li>'POSTCODE.CORRESPONDENTIEADRES'</li>\n",
       "\t<li>'PLAATSNAAM.CORRESPONDENTIEADRES'</li>\n",
       "\t<li>'NODAAL.GEBIED.CODE'</li>\n",
       "\t<li>'NODAAL.GEBIED.NAAM'</li>\n",
       "\t<li>'RPA.GEBIED.CODE'</li>\n",
       "\t<li>'RPA.GEBIED.NAAM'</li>\n",
       "\t<li>'WGR.GEBIED.CODE'</li>\n",
       "\t<li>'WGR.GEBIED.NAAM'</li>\n",
       "\t<li>'COROPGEBIED.CODE'</li>\n",
       "\t<li>'COROPGEBIED.NAAM'</li>\n",
       "\t<li>'ONDERWIJSGEBIED.CODE'</li>\n",
       "\t<li>'ONDERWIJSGEBIED.NAAM'</li>\n",
       "\t<li>'RMC.REGIO.CODE'</li>\n",
       "\t<li>'RMC.REGIO.NAAM'</li>\n",
       "</ol>\n"
      ],
      "text/latex": [
       "\\begin{enumerate*}\n",
       "\\item 'PROVINCIE'\n",
       "\\item 'BEVOEGD.GEZAG.NUMMER'\n",
       "\\item 'BRIN.NUMMER'\n",
       "\\item 'VESTIGINGSNUMMER'\n",
       "\\item 'VESTIGINGSNAAM'\n",
       "\\item 'STRAATNAAM'\n",
       "\\item 'HUISNUMMER.TOEVOEGING'\n",
       "\\item 'POSTCODE'\n",
       "\\item 'PLAATSNAAM'\n",
       "\\item 'GEMEENTENUMMER'\n",
       "\\item 'GEMEENTENAAM'\n",
       "\\item 'DENOMINATIE'\n",
       "\\item 'TELEFOONNUMMER'\n",
       "\\item 'INTERNETADRES'\n",
       "\\item 'ONDERWIJSSTRUCTUUR'\n",
       "\\item 'STRAATNAAM.CORRESPONDENTIEADRES'\n",
       "\\item 'HUISNUMMER.TOEVOEGING.CORRESPONDENTIEADRES'\n",
       "\\item 'POSTCODE.CORRESPONDENTIEADRES'\n",
       "\\item 'PLAATSNAAM.CORRESPONDENTIEADRES'\n",
       "\\item 'NODAAL.GEBIED.CODE'\n",
       "\\item 'NODAAL.GEBIED.NAAM'\n",
       "\\item 'RPA.GEBIED.CODE'\n",
       "\\item 'RPA.GEBIED.NAAM'\n",
       "\\item 'WGR.GEBIED.CODE'\n",
       "\\item 'WGR.GEBIED.NAAM'\n",
       "\\item 'COROPGEBIED.CODE'\n",
       "\\item 'COROPGEBIED.NAAM'\n",
       "\\item 'ONDERWIJSGEBIED.CODE'\n",
       "\\item 'ONDERWIJSGEBIED.NAAM'\n",
       "\\item 'RMC.REGIO.CODE'\n",
       "\\item 'RMC.REGIO.NAAM'\n",
       "\\end{enumerate*}\n"
      ],
      "text/markdown": [
       "1. 'PROVINCIE'\n",
       "2. 'BEVOEGD.GEZAG.NUMMER'\n",
       "3. 'BRIN.NUMMER'\n",
       "4. 'VESTIGINGSNUMMER'\n",
       "5. 'VESTIGINGSNAAM'\n",
       "6. 'STRAATNAAM'\n",
       "7. 'HUISNUMMER.TOEVOEGING'\n",
       "8. 'POSTCODE'\n",
       "9. 'PLAATSNAAM'\n",
       "10. 'GEMEENTENUMMER'\n",
       "11. 'GEMEENTENAAM'\n",
       "12. 'DENOMINATIE'\n",
       "13. 'TELEFOONNUMMER'\n",
       "14. 'INTERNETADRES'\n",
       "15. 'ONDERWIJSSTRUCTUUR'\n",
       "16. 'STRAATNAAM.CORRESPONDENTIEADRES'\n",
       "17. 'HUISNUMMER.TOEVOEGING.CORRESPONDENTIEADRES'\n",
       "18. 'POSTCODE.CORRESPONDENTIEADRES'\n",
       "19. 'PLAATSNAAM.CORRESPONDENTIEADRES'\n",
       "20. 'NODAAL.GEBIED.CODE'\n",
       "21. 'NODAAL.GEBIED.NAAM'\n",
       "22. 'RPA.GEBIED.CODE'\n",
       "23. 'RPA.GEBIED.NAAM'\n",
       "24. 'WGR.GEBIED.CODE'\n",
       "25. 'WGR.GEBIED.NAAM'\n",
       "26. 'COROPGEBIED.CODE'\n",
       "27. 'COROPGEBIED.NAAM'\n",
       "28. 'ONDERWIJSGEBIED.CODE'\n",
       "29. 'ONDERWIJSGEBIED.NAAM'\n",
       "30. 'RMC.REGIO.CODE'\n",
       "31. 'RMC.REGIO.NAAM'\n",
       "\n",
       "\n"
      ],
      "text/plain": [
       " [1] \"PROVINCIE\"                                 \n",
       " [2] \"BEVOEGD.GEZAG.NUMMER\"                      \n",
       " [3] \"BRIN.NUMMER\"                               \n",
       " [4] \"VESTIGINGSNUMMER\"                          \n",
       " [5] \"VESTIGINGSNAAM\"                            \n",
       " [6] \"STRAATNAAM\"                                \n",
       " [7] \"HUISNUMMER.TOEVOEGING\"                     \n",
       " [8] \"POSTCODE\"                                  \n",
       " [9] \"PLAATSNAAM\"                                \n",
       "[10] \"GEMEENTENUMMER\"                            \n",
       "[11] \"GEMEENTENAAM\"                              \n",
       "[12] \"DENOMINATIE\"                               \n",
       "[13] \"TELEFOONNUMMER\"                            \n",
       "[14] \"INTERNETADRES\"                             \n",
       "[15] \"ONDERWIJSSTRUCTUUR\"                        \n",
       "[16] \"STRAATNAAM.CORRESPONDENTIEADRES\"           \n",
       "[17] \"HUISNUMMER.TOEVOEGING.CORRESPONDENTIEADRES\"\n",
       "[18] \"POSTCODE.CORRESPONDENTIEADRES\"             \n",
       "[19] \"PLAATSNAAM.CORRESPONDENTIEADRES\"           \n",
       "[20] \"NODAAL.GEBIED.CODE\"                        \n",
       "[21] \"NODAAL.GEBIED.NAAM\"                        \n",
       "[22] \"RPA.GEBIED.CODE\"                           \n",
       "[23] \"RPA.GEBIED.NAAM\"                           \n",
       "[24] \"WGR.GEBIED.CODE\"                           \n",
       "[25] \"WGR.GEBIED.NAAM\"                           \n",
       "[26] \"COROPGEBIED.CODE\"                          \n",
       "[27] \"COROPGEBIED.NAAM\"                          \n",
       "[28] \"ONDERWIJSGEBIED.CODE\"                      \n",
       "[29] \"ONDERWIJSGEBIED.NAAM\"                      \n",
       "[30] \"RMC.REGIO.CODE\"                            \n",
       "[31] \"RMC.REGIO.NAAM\"                            "
      ]
     },
     "metadata": {},
     "output_type": "display_data"
    },
    {
     "data": {
      "text/html": [
       "<table>\n",
       "<thead><tr><th scope=col>PROVINCIE</th><th scope=col>BEVOEGD.GEZAG.NUMMER</th><th scope=col>BRIN.NUMMER</th><th scope=col>VESTIGINGSNUMMER</th><th scope=col>VESTIGINGSNAAM</th><th scope=col>STRAATNAAM</th><th scope=col>HUISNUMMER.TOEVOEGING</th><th scope=col>POSTCODE</th><th scope=col>PLAATSNAAM</th><th scope=col>GEMEENTENUMMER</th><th scope=col>...</th><th scope=col>RPA.GEBIED.CODE</th><th scope=col>RPA.GEBIED.NAAM</th><th scope=col>WGR.GEBIED.CODE</th><th scope=col>WGR.GEBIED.NAAM</th><th scope=col>COROPGEBIED.CODE</th><th scope=col>COROPGEBIED.NAAM</th><th scope=col>ONDERWIJSGEBIED.CODE</th><th scope=col>ONDERWIJSGEBIED.NAAM</th><th scope=col>RMC.REGIO.CODE</th><th scope=col>RMC.REGIO.NAAM</th></tr></thead>\n",
       "<tbody>\n",
       "\t<tr><td>                                                                         </td><td>41152                                                                    </td><td>23HC                                                                     </td><td>23HC04                                                                   </td><td>RSG Lingecollege                                                         </td><td>                                                                         </td><td>                                                                         </td><td>                                                                         </td><td>                                                                         </td><td>  NA                                                                     </td><td>...                                                                      </td><td>NA                                                                       </td><td>                                                                         </td><td>NA                                                                       </td><td>                                                                         </td><td>NA                                                                       </td><td>                                                                         </td><td>NA                                                                       </td><td>                                                                         </td><td>NA                                                                       </td><td>                                                                         </td></tr>\n",
       "\t<tr><td>Drenthe                                                                  </td><td>10053                                                                    </td><td>18BR                                                                     </td><td>18BR00                                                                   </td><td>School voor Praktijkonderwijs Assen                                      </td><td>Zwartwatersweg                                                           </td><td>202                                                                      </td><td>9406 NN                                                                  </td><td>ASSEN                                                                    </td><td> 106                                                                     </td><td>...                                                                      </td><td> 3                                                                       </td><td>Centraal-Groningen                                                       </td><td> 7                                                                       </td><td>Noord- en Midden-Drenthe                                                 </td><td> 7                                                                       </td><td>Noord-Drenthe                                                            </td><td> 4                                                                       </td><td>Assen-Hoogeveen-Emmen                                                    </td><td> 7                                                                       </td><td>Noord- en Midden Drenthe                                                 </td></tr>\n",
       "\t<tr><td>Drenthe                                                                  </td><td>10053                                                                    </td><td>18BR                                                                     </td><td>18BR01                                                                   </td><td>School voor Praktijkonderwijs Assen                                      </td><td>Bosrand                                                                  </td><td>2                                                                        </td><td>9401 SL                                                                  </td><td>ASSEN                                                                    </td><td> 106                                                                     </td><td>...                                                                      </td><td> 3                                                                       </td><td>Centraal-Groningen                                                       </td><td> 7                                                                       </td><td>Noord- en Midden-Drenthe                                                 </td><td> 7                                                                       </td><td>Noord-Drenthe                                                            </td><td> 4                                                                       </td><td>Assen-Hoogeveen-Emmen                                                    </td><td> 7                                                                       </td><td>Noord- en Midden Drenthe                                                 </td></tr>\n",
       "\t<tr><td>Drenthe                                                                  </td><td>13273                                                                    </td><td>20LO                                                                     </td><td>20LO00                                                                   </td><td>Openbare Scholengemeenschap Dr Nassau College voor Vwo Havo Mavo Vbo Lwoo</td><td>Mr Groen v Prinstererln                                                  </td><td>98                                                                       </td><td>9402 KG                                                                  </td><td>ASSEN                                                                    </td><td> 106                                                                     </td><td>...                                                                      </td><td> 3                                                                       </td><td>Centraal-Groningen                                                       </td><td> 7                                                                       </td><td>Noord- en Midden-Drenthe                                                 </td><td> 7                                                                       </td><td>Noord-Drenthe                                                            </td><td> 4                                                                       </td><td>Assen-Hoogeveen-Emmen                                                    </td><td> 7                                                                       </td><td>Noord- en Midden Drenthe                                                 </td></tr>\n",
       "\t<tr><td>Drenthe                                                                  </td><td>13273                                                                    </td><td>20LO                                                                     </td><td>20LO01                                                                   </td><td>Openbare Scholengemeenschap Dr Nassau College voor Vwo Havo Mavo Vbo Lwoo</td><td>Schoolstraat                                                             </td><td>1                                                                        </td><td>9331 AV                                                                  </td><td>NORG                                                                     </td><td>1699                                                                     </td><td>...                                                                      </td><td> 3                                                                       </td><td>Centraal-Groningen                                                       </td><td> 7                                                                       </td><td>Noord- en Midden-Drenthe                                                 </td><td> 7                                                                       </td><td>Noord-Drenthe                                                            </td><td> 1                                                                       </td><td>Groningen en omstreken                                                   </td><td> 7                                                                       </td><td>Noord- en Midden Drenthe                                                 </td></tr>\n",
       "\t<tr><td>Drenthe                                                                  </td><td>13273                                                                    </td><td>20LO                                                                     </td><td>20LO02                                                                   </td><td>Openbare Scholengemeenschap Dr Nassau College voor Vwo Havo Mavo Vbo Lwoo</td><td>Esdoornlaan                                                              </td><td>2                                                                        </td><td>9411 AV                                                                  </td><td>BEILEN                                                                   </td><td>1731                                                                     </td><td>...                                                                      </td><td> 5                                                                       </td><td>Zuid- en Midden-Drenthe                                                  </td><td> 7                                                                       </td><td>Noord- en Midden-Drenthe                                                 </td><td> 7                                                                       </td><td>Noord-Drenthe                                                            </td><td> 4                                                                       </td><td>Assen-Hoogeveen-Emmen                                                    </td><td> 7                                                                       </td><td>Noord- en Midden Drenthe                                                 </td></tr>\n",
       "</tbody>\n",
       "</table>\n"
      ],
      "text/latex": [
       "\\begin{tabular}{r|lllllllllllllllllllllllllllllll}\n",
       " PROVINCIE & BEVOEGD.GEZAG.NUMMER & BRIN.NUMMER & VESTIGINGSNUMMER & VESTIGINGSNAAM & STRAATNAAM & HUISNUMMER.TOEVOEGING & POSTCODE & PLAATSNAAM & GEMEENTENUMMER & ... & RPA.GEBIED.CODE & RPA.GEBIED.NAAM & WGR.GEBIED.CODE & WGR.GEBIED.NAAM & COROPGEBIED.CODE & COROPGEBIED.NAAM & ONDERWIJSGEBIED.CODE & ONDERWIJSGEBIED.NAAM & RMC.REGIO.CODE & RMC.REGIO.NAAM\\\\\n",
       "\\hline\n",
       "\t                                                                           & 41152                                                                     & 23HC                                                                      & 23HC04                                                                    & RSG Lingecollege                                                          &                                                                           &                                                                           &                                                                           &                                                                           &   NA                                                                      & ...                                                                       & NA                                                                        &                                                                           & NA                                                                        &                                                                           & NA                                                                        &                                                                           & NA                                                                        &                                                                           & NA                                                                        &                                                                          \\\\\n",
       "\t Drenthe                                                                   & 10053                                                                     & 18BR                                                                      & 18BR00                                                                    & School voor Praktijkonderwijs Assen                                       & Zwartwatersweg                                                            & 202                                                                       & 9406 NN                                                                   & ASSEN                                                                     &  106                                                                      & ...                                                                       &  3                                                                        & Centraal-Groningen                                                        &  7                                                                        & Noord- en Midden-Drenthe                                                  &  7                                                                        & Noord-Drenthe                                                             &  4                                                                        & Assen-Hoogeveen-Emmen                                                     &  7                                                                        & Noord- en Midden Drenthe                                                 \\\\\n",
       "\t Drenthe                                                                   & 10053                                                                     & 18BR                                                                      & 18BR01                                                                    & School voor Praktijkonderwijs Assen                                       & Bosrand                                                                   & 2                                                                         & 9401 SL                                                                   & ASSEN                                                                     &  106                                                                      & ...                                                                       &  3                                                                        & Centraal-Groningen                                                        &  7                                                                        & Noord- en Midden-Drenthe                                                  &  7                                                                        & Noord-Drenthe                                                             &  4                                                                        & Assen-Hoogeveen-Emmen                                                     &  7                                                                        & Noord- en Midden Drenthe                                                 \\\\\n",
       "\t Drenthe                                                                   & 13273                                                                     & 20LO                                                                      & 20LO00                                                                    & Openbare Scholengemeenschap Dr Nassau College voor Vwo Havo Mavo Vbo Lwoo & Mr Groen v Prinstererln                                                   & 98                                                                        & 9402 KG                                                                   & ASSEN                                                                     &  106                                                                      & ...                                                                       &  3                                                                        & Centraal-Groningen                                                        &  7                                                                        & Noord- en Midden-Drenthe                                                  &  7                                                                        & Noord-Drenthe                                                             &  4                                                                        & Assen-Hoogeveen-Emmen                                                     &  7                                                                        & Noord- en Midden Drenthe                                                 \\\\\n",
       "\t Drenthe                                                                   & 13273                                                                     & 20LO                                                                      & 20LO01                                                                    & Openbare Scholengemeenschap Dr Nassau College voor Vwo Havo Mavo Vbo Lwoo & Schoolstraat                                                              & 1                                                                         & 9331 AV                                                                   & NORG                                                                      & 1699                                                                      & ...                                                                       &  3                                                                        & Centraal-Groningen                                                        &  7                                                                        & Noord- en Midden-Drenthe                                                  &  7                                                                        & Noord-Drenthe                                                             &  1                                                                        & Groningen en omstreken                                                    &  7                                                                        & Noord- en Midden Drenthe                                                 \\\\\n",
       "\t Drenthe                                                                   & 13273                                                                     & 20LO                                                                      & 20LO02                                                                    & Openbare Scholengemeenschap Dr Nassau College voor Vwo Havo Mavo Vbo Lwoo & Esdoornlaan                                                               & 2                                                                         & 9411 AV                                                                   & BEILEN                                                                    & 1731                                                                      & ...                                                                       &  5                                                                        & Zuid- en Midden-Drenthe                                                   &  7                                                                        & Noord- en Midden-Drenthe                                                  &  7                                                                        & Noord-Drenthe                                                             &  4                                                                        & Assen-Hoogeveen-Emmen                                                     &  7                                                                        & Noord- en Midden Drenthe                                                 \\\\\n",
       "\\end{tabular}\n"
      ],
      "text/markdown": [
       "\n",
       "PROVINCIE | BEVOEGD.GEZAG.NUMMER | BRIN.NUMMER | VESTIGINGSNUMMER | VESTIGINGSNAAM | STRAATNAAM | HUISNUMMER.TOEVOEGING | POSTCODE | PLAATSNAAM | GEMEENTENUMMER | ... | RPA.GEBIED.CODE | RPA.GEBIED.NAAM | WGR.GEBIED.CODE | WGR.GEBIED.NAAM | COROPGEBIED.CODE | COROPGEBIED.NAAM | ONDERWIJSGEBIED.CODE | ONDERWIJSGEBIED.NAAM | RMC.REGIO.CODE | RMC.REGIO.NAAM | \n",
       "|---|---|---|---|---|---|\n",
       "|                                                                           | 41152                                                                     | 23HC                                                                      | 23HC04                                                                    | RSG Lingecollege                                                          |                                                                           |                                                                           |                                                                           |                                                                           |   NA                                                                      | ...                                                                       | NA                                                                        |                                                                           | NA                                                                        |                                                                           | NA                                                                        |                                                                           | NA                                                                        |                                                                           | NA                                                                        |                                                                           | \n",
       "| Drenthe                                                                   | 10053                                                                     | 18BR                                                                      | 18BR00                                                                    | School voor Praktijkonderwijs Assen                                       | Zwartwatersweg                                                            | 202                                                                       | 9406 NN                                                                   | ASSEN                                                                     |  106                                                                      | ...                                                                       |  3                                                                        | Centraal-Groningen                                                        |  7                                                                        | Noord- en Midden-Drenthe                                                  |  7                                                                        | Noord-Drenthe                                                             |  4                                                                        | Assen-Hoogeveen-Emmen                                                     |  7                                                                        | Noord- en Midden Drenthe                                                  | \n",
       "| Drenthe                                                                   | 10053                                                                     | 18BR                                                                      | 18BR01                                                                    | School voor Praktijkonderwijs Assen                                       | Bosrand                                                                   | 2                                                                         | 9401 SL                                                                   | ASSEN                                                                     |  106                                                                      | ...                                                                       |  3                                                                        | Centraal-Groningen                                                        |  7                                                                        | Noord- en Midden-Drenthe                                                  |  7                                                                        | Noord-Drenthe                                                             |  4                                                                        | Assen-Hoogeveen-Emmen                                                     |  7                                                                        | Noord- en Midden Drenthe                                                  | \n",
       "| Drenthe                                                                   | 13273                                                                     | 20LO                                                                      | 20LO00                                                                    | Openbare Scholengemeenschap Dr Nassau College voor Vwo Havo Mavo Vbo Lwoo | Mr Groen v Prinstererln                                                   | 98                                                                        | 9402 KG                                                                   | ASSEN                                                                     |  106                                                                      | ...                                                                       |  3                                                                        | Centraal-Groningen                                                        |  7                                                                        | Noord- en Midden-Drenthe                                                  |  7                                                                        | Noord-Drenthe                                                             |  4                                                                        | Assen-Hoogeveen-Emmen                                                     |  7                                                                        | Noord- en Midden Drenthe                                                  | \n",
       "| Drenthe                                                                   | 13273                                                                     | 20LO                                                                      | 20LO01                                                                    | Openbare Scholengemeenschap Dr Nassau College voor Vwo Havo Mavo Vbo Lwoo | Schoolstraat                                                              | 1                                                                         | 9331 AV                                                                   | NORG                                                                      | 1699                                                                      | ...                                                                       |  3                                                                        | Centraal-Groningen                                                        |  7                                                                        | Noord- en Midden-Drenthe                                                  |  7                                                                        | Noord-Drenthe                                                             |  1                                                                        | Groningen en omstreken                                                    |  7                                                                        | Noord- en Midden Drenthe                                                  | \n",
       "| Drenthe                                                                   | 13273                                                                     | 20LO                                                                      | 20LO02                                                                    | Openbare Scholengemeenschap Dr Nassau College voor Vwo Havo Mavo Vbo Lwoo | Esdoornlaan                                                               | 2                                                                         | 9411 AV                                                                   | BEILEN                                                                    | 1731                                                                      | ...                                                                       |  5                                                                        | Zuid- en Midden-Drenthe                                                   |  7                                                                        | Noord- en Midden-Drenthe                                                  |  7                                                                        | Noord-Drenthe                                                             |  4                                                                        | Assen-Hoogeveen-Emmen                                                     |  7                                                                        | Noord- en Midden Drenthe                                                  | \n",
       "\n",
       "\n"
      ],
      "text/plain": [
       "  PROVINCIE            BEVOEGD.GEZAG.NUMMER BRIN.NUMMER VESTIGINGSNUMMER\n",
       "1                      41152                23HC        23HC04          \n",
       "2 Drenthe              10053                18BR        18BR00          \n",
       "3 Drenthe              10053                18BR        18BR01          \n",
       "4 Drenthe              13273                20LO        20LO00          \n",
       "5 Drenthe              13273                20LO        20LO01          \n",
       "6 Drenthe              13273                20LO        20LO02          \n",
       "  VESTIGINGSNAAM                                                           \n",
       "1 RSG Lingecollege                                                         \n",
       "2 School voor Praktijkonderwijs Assen                                      \n",
       "3 School voor Praktijkonderwijs Assen                                      \n",
       "4 Openbare Scholengemeenschap Dr Nassau College voor Vwo Havo Mavo Vbo Lwoo\n",
       "5 Openbare Scholengemeenschap Dr Nassau College voor Vwo Havo Mavo Vbo Lwoo\n",
       "6 Openbare Scholengemeenschap Dr Nassau College voor Vwo Havo Mavo Vbo Lwoo\n",
       "  STRAATNAAM               HUISNUMMER.TOEVOEGING POSTCODE\n",
       "1                                                        \n",
       "2 Zwartwatersweg           202                   9406 NN \n",
       "3 Bosrand                  2                     9401 SL \n",
       "4 Mr Groen v Prinstererln  98                    9402 KG \n",
       "5 Schoolstraat             1                     9331 AV \n",
       "6 Esdoornlaan              2                     9411 AV \n",
       "  PLAATSNAAM               GEMEENTENUMMER ... RPA.GEBIED.CODE\n",
       "1                            NA           ... NA             \n",
       "2 ASSEN                     106           ...  3             \n",
       "3 ASSEN                     106           ...  3             \n",
       "4 ASSEN                     106           ...  3             \n",
       "5 NORG                     1699           ...  3             \n",
       "6 BEILEN                   1731           ...  5             \n",
       "  RPA.GEBIED.NAAM          WGR.GEBIED.CODE\n",
       "1                          NA             \n",
       "2 Centraal-Groningen        7             \n",
       "3 Centraal-Groningen        7             \n",
       "4 Centraal-Groningen        7             \n",
       "5 Centraal-Groningen        7             \n",
       "6 Zuid- en Midden-Drenthe   7             \n",
       "  WGR.GEBIED.NAAM                         COROPGEBIED.CODE\n",
       "1                                         NA              \n",
       "2 Noord- en Midden-Drenthe                 7              \n",
       "3 Noord- en Midden-Drenthe                 7              \n",
       "4 Noord- en Midden-Drenthe                 7              \n",
       "5 Noord- en Midden-Drenthe                 7              \n",
       "6 Noord- en Midden-Drenthe                 7              \n",
       "  COROPGEBIED.NAAM                    ONDERWIJSGEBIED.CODE\n",
       "1                                     NA                  \n",
       "2 Noord-Drenthe                        4                  \n",
       "3 Noord-Drenthe                        4                  \n",
       "4 Noord-Drenthe                        4                  \n",
       "5 Noord-Drenthe                        1                  \n",
       "6 Noord-Drenthe                        4                  \n",
       "  ONDERWIJSGEBIED.NAAM             RMC.REGIO.CODE\n",
       "1                                  NA            \n",
       "2 Assen-Hoogeveen-Emmen             7            \n",
       "3 Assen-Hoogeveen-Emmen             7            \n",
       "4 Assen-Hoogeveen-Emmen             7            \n",
       "5 Groningen en omstreken            7            \n",
       "6 Assen-Hoogeveen-Emmen             7            \n",
       "  RMC.REGIO.NAAM                          \n",
       "1                                         \n",
       "2 Noord- en Midden Drenthe                \n",
       "3 Noord- en Midden Drenthe                \n",
       "4 Noord- en Midden Drenthe                \n",
       "5 Noord- en Midden Drenthe                \n",
       "6 Noord- en Midden Drenthe                "
      ]
     },
     "metadata": {},
     "output_type": "display_data"
    }
   ],
   "source": [
    "    #Again we use read.csv2 to read a downloaded package (located in the map Code).\n",
    "schools <- read.csv2(\"../Package/schools.csv\")\n",
    "names(schools)\n",
    "\n",
    "head(schools)\n"
   ]
  },
  {
   "cell_type": "markdown",
   "metadata": {},
   "source": [
    "### 2dii\n",
    "\n",
    "First, create a new dataframe schools1, which is equal to schools.\n",
    "\n",
    "As you see POSTCODE has a structure of (1234 AB). You should create a new variable PC4 that is equal to the first 4 numbers in POSTCODE\n",
    "\n",
    "Hint: Use the function `substr()`\n",
    "\n",
    "Then select the variables PC4 and DENOMINATIE"
   ]
  },
  {
   "cell_type": "code",
   "execution_count": 113,
   "metadata": {},
   "outputs": [
    {
     "data": {
      "text/html": [
       "<table>\n",
       "<thead><tr><th scope=col>POSTCODE</th></tr></thead>\n",
       "<tbody>\n",
       "\t<tr><td>    </td></tr>\n",
       "\t<tr><td>9406</td></tr>\n",
       "\t<tr><td>9401</td></tr>\n",
       "\t<tr><td>9402</td></tr>\n",
       "\t<tr><td>9331</td></tr>\n",
       "\t<tr><td>9411</td></tr>\n",
       "\t<tr><td>9461</td></tr>\n",
       "\t<tr><td>9402</td></tr>\n",
       "\t<tr><td>9402</td></tr>\n",
       "\t<tr><td>9403</td></tr>\n",
       "\t<tr><td>9406</td></tr>\n",
       "\t<tr><td>7905</td></tr>\n",
       "\t<tr><td>7905</td></tr>\n",
       "\t<tr><td>7905</td></tr>\n",
       "\t<tr><td>7905</td></tr>\n",
       "\t<tr><td>7905</td></tr>\n",
       "\t<tr><td>9404</td></tr>\n",
       "\t<tr><td>9761</td></tr>\n",
       "\t<tr><td>7812</td></tr>\n",
       "\t<tr><td>7944</td></tr>\n",
       "\t<tr><td>7944</td></tr>\n",
       "\t<tr><td>7824</td></tr>\n",
       "\t<tr><td>9301</td></tr>\n",
       "\t<tr><td>9301</td></tr>\n",
       "\t<tr><td>7902</td></tr>\n",
       "\t<tr><td>7903</td></tr>\n",
       "\t<tr><td>7822</td></tr>\n",
       "\t<tr><td>7825</td></tr>\n",
       "\t<tr><td>7943</td></tr>\n",
       "\t<tr><td>7943</td></tr>\n",
       "\t<tr><td>...</td></tr>\n",
       "\t<tr><td>2231</td></tr>\n",
       "\t<tr><td>2313</td></tr>\n",
       "\t<tr><td>2371</td></tr>\n",
       "\t<tr><td>2334</td></tr>\n",
       "\t<tr><td>2334</td></tr>\n",
       "\t<tr><td>4205</td></tr>\n",
       "\t<tr><td>3371</td></tr>\n",
       "\t<tr><td>4205</td></tr>\n",
       "\t<tr><td>4204</td></tr>\n",
       "\t<tr><td>4205</td></tr>\n",
       "\t<tr><td>4207</td></tr>\n",
       "\t<tr><td>4143</td></tr>\n",
       "\t<tr><td>4142</td></tr>\n",
       "\t<tr><td>3032</td></tr>\n",
       "\t<tr><td>3039</td></tr>\n",
       "\t<tr><td>2517</td></tr>\n",
       "\t<tr><td>2551</td></tr>\n",
       "\t<tr><td>3362</td></tr>\n",
       "\t<tr><td>2241</td></tr>\n",
       "\t<tr><td>3055</td></tr>\n",
       "\t<tr><td>2401</td></tr>\n",
       "\t<tr><td>2421</td></tr>\n",
       "\t<tr><td>2585</td></tr>\n",
       "\t<tr><td>2725</td></tr>\n",
       "\t<tr><td>2614</td></tr>\n",
       "\t<tr><td>2625</td></tr>\n",
       "\t<tr><td>2625</td></tr>\n",
       "\t<tr><td>2597</td></tr>\n",
       "\t<tr><td>3034</td></tr>\n",
       "\t<tr><td>2315</td></tr>\n",
       "</tbody>\n",
       "</table>\n"
      ],
      "text/latex": [
       "\\begin{tabular}{r|l}\n",
       " POSTCODE\\\\\n",
       "\\hline\n",
       "\t     \\\\\n",
       "\t 9406\\\\\n",
       "\t 9401\\\\\n",
       "\t 9402\\\\\n",
       "\t 9331\\\\\n",
       "\t 9411\\\\\n",
       "\t 9461\\\\\n",
       "\t 9402\\\\\n",
       "\t 9402\\\\\n",
       "\t 9403\\\\\n",
       "\t 9406\\\\\n",
       "\t 7905\\\\\n",
       "\t 7905\\\\\n",
       "\t 7905\\\\\n",
       "\t 7905\\\\\n",
       "\t 7905\\\\\n",
       "\t 9404\\\\\n",
       "\t 9761\\\\\n",
       "\t 7812\\\\\n",
       "\t 7944\\\\\n",
       "\t 7944\\\\\n",
       "\t 7824\\\\\n",
       "\t 9301\\\\\n",
       "\t 9301\\\\\n",
       "\t 7902\\\\\n",
       "\t 7903\\\\\n",
       "\t 7822\\\\\n",
       "\t 7825\\\\\n",
       "\t 7943\\\\\n",
       "\t 7943\\\\\n",
       "\t ...\\\\\n",
       "\t 2231\\\\\n",
       "\t 2313\\\\\n",
       "\t 2371\\\\\n",
       "\t 2334\\\\\n",
       "\t 2334\\\\\n",
       "\t 4205\\\\\n",
       "\t 3371\\\\\n",
       "\t 4205\\\\\n",
       "\t 4204\\\\\n",
       "\t 4205\\\\\n",
       "\t 4207\\\\\n",
       "\t 4143\\\\\n",
       "\t 4142\\\\\n",
       "\t 3032\\\\\n",
       "\t 3039\\\\\n",
       "\t 2517\\\\\n",
       "\t 2551\\\\\n",
       "\t 3362\\\\\n",
       "\t 2241\\\\\n",
       "\t 3055\\\\\n",
       "\t 2401\\\\\n",
       "\t 2421\\\\\n",
       "\t 2585\\\\\n",
       "\t 2725\\\\\n",
       "\t 2614\\\\\n",
       "\t 2625\\\\\n",
       "\t 2625\\\\\n",
       "\t 2597\\\\\n",
       "\t 3034\\\\\n",
       "\t 2315\\\\\n",
       "\\end{tabular}\n"
      ],
      "text/markdown": [
       "\n",
       "POSTCODE | \n",
       "|---|---|---|---|---|---|---|---|---|---|---|---|---|---|---|---|---|---|---|---|---|---|---|---|---|---|---|---|---|---|---|---|---|---|---|---|---|---|---|---|---|---|---|---|---|---|---|---|---|---|---|---|---|---|---|---|---|---|---|---|---|\n",
       "|      | \n",
       "| 9406 | \n",
       "| 9401 | \n",
       "| 9402 | \n",
       "| 9331 | \n",
       "| 9411 | \n",
       "| 9461 | \n",
       "| 9402 | \n",
       "| 9402 | \n",
       "| 9403 | \n",
       "| 9406 | \n",
       "| 7905 | \n",
       "| 7905 | \n",
       "| 7905 | \n",
       "| 7905 | \n",
       "| 7905 | \n",
       "| 9404 | \n",
       "| 9761 | \n",
       "| 7812 | \n",
       "| 7944 | \n",
       "| 7944 | \n",
       "| 7824 | \n",
       "| 9301 | \n",
       "| 9301 | \n",
       "| 7902 | \n",
       "| 7903 | \n",
       "| 7822 | \n",
       "| 7825 | \n",
       "| 7943 | \n",
       "| 7943 | \n",
       "| ... | \n",
       "| 2231 | \n",
       "| 2313 | \n",
       "| 2371 | \n",
       "| 2334 | \n",
       "| 2334 | \n",
       "| 4205 | \n",
       "| 3371 | \n",
       "| 4205 | \n",
       "| 4204 | \n",
       "| 4205 | \n",
       "| 4207 | \n",
       "| 4143 | \n",
       "| 4142 | \n",
       "| 3032 | \n",
       "| 3039 | \n",
       "| 2517 | \n",
       "| 2551 | \n",
       "| 3362 | \n",
       "| 2241 | \n",
       "| 3055 | \n",
       "| 2401 | \n",
       "| 2421 | \n",
       "| 2585 | \n",
       "| 2725 | \n",
       "| 2614 | \n",
       "| 2625 | \n",
       "| 2625 | \n",
       "| 2597 | \n",
       "| 3034 | \n",
       "| 2315 | \n",
       "\n",
       "\n"
      ],
      "text/plain": [
       "     POSTCODE\n",
       "1            \n",
       "2    9406    \n",
       "3    9401    \n",
       "4    9402    \n",
       "5    9331    \n",
       "6    9411    \n",
       "7    9461    \n",
       "8    9402    \n",
       "9    9402    \n",
       "10   9403    \n",
       "11   9406    \n",
       "12   7905    \n",
       "13   7905    \n",
       "14   7905    \n",
       "15   7905    \n",
       "16   7905    \n",
       "17   9404    \n",
       "18   9761    \n",
       "19   7812    \n",
       "20   7944    \n",
       "21   7944    \n",
       "22   7824    \n",
       "23   9301    \n",
       "24   9301    \n",
       "25   7902    \n",
       "26   7903    \n",
       "27   7822    \n",
       "28   7825    \n",
       "29   7943    \n",
       "30   7943    \n",
       "...  ...     \n",
       "1574 2231    \n",
       "1575 2313    \n",
       "1576 2371    \n",
       "1577 2334    \n",
       "1578 2334    \n",
       "1579 4205    \n",
       "1580 3371    \n",
       "1581 4205    \n",
       "1582 4204    \n",
       "1583 4205    \n",
       "1584 4207    \n",
       "1585 4143    \n",
       "1586 4142    \n",
       "1587 3032    \n",
       "1588 3039    \n",
       "1589 2517    \n",
       "1590 2551    \n",
       "1591 3362    \n",
       "1592 2241    \n",
       "1593 3055    \n",
       "1594 2401    \n",
       "1595 2421    \n",
       "1596 2585    \n",
       "1597 2725    \n",
       "1598 2614    \n",
       "1599 2625    \n",
       "1600 2625    \n",
       "1601 2597    \n",
       "1602 3034    \n",
       "1603 2315    "
      ]
     },
     "metadata": {},
     "output_type": "display_data"
    }
   ],
   "source": [
    "    #\n",
    "\n",
    "POSTCODE <- schools1[\"POSTCODE\"]\n",
    "\n",
    "schools1 <- schools %>%\n",
    "    mutate(POSTCODE=substr(POSTCODE, 1, 4))\n",
    "PC4 <- POSTCODE\n",
    "\n",
    "\n",
    "PC4\n"
   ]
  },
  {
   "cell_type": "markdown",
   "metadata": {},
   "source": [
    "### 2diii\n",
    "\n",
    "Create the dataframe school_loc as a join from pc4_locations and school1 that combines the columns from both data frames, but only keeps rows where the value in the pc4_locations column matches in both data frames.\n",
    "And then select the observations with DENOMINATIE is equal to \"Rooms-Katholiek\" or \"Protestants-Christelijk\""
   ]
  },
  {
   "cell_type": "code",
   "execution_count": 110,
   "metadata": {},
   "outputs": [
    {
     "ename": "ERROR",
     "evalue": "Error: `by` can't contain join column `PC4` which is missing from RHS\n",
     "output_type": "error",
     "traceback": [
      "Error: `by` can't contain join column `PC4` which is missing from RHS\nTraceback:\n",
      "1. full_join(pc4_locations, schools1, by = \"PC4\")",
      "2. full_join.data.frame(pc4_locations, schools1, by = \"PC4\")",
      "3. as.data.frame(full_join(tbl_df(x), y, by = by, copy = copy, ...))",
      "4. full_join(tbl_df(x), y, by = by, copy = copy, ...)",
      "5. full_join.tbl_df(tbl_df(x), y, by = by, copy = copy, ...)",
      "6. common_by(by, x, y)",
      "7. common_by.character(by, x, y)",
      "8. common_by.list(by, x, y)",
      "9. bad_args(\"by\", \"can't contain join column {missing} which is missing from RHS\", \n .     missing = fmt_obj(setdiff(by$y, y_vars)))",
      "10. glubort(fmt_args(args), ..., .envir = .envir)",
      "11. .abort(text)"
     ]
    }
   ],
   "source": [
    "    #We use full_join to join these two dataframes together, and group by PC4, to see the locations that match both data frames.\n",
    "school_loc <- full_join(pc4_locations, schools1, by=\"PC4\")\n",
    "\n",
    "\n"
   ]
  },
  {
   "cell_type": "markdown",
   "metadata": {},
   "source": [
    "## Assignment 2e\n",
    "\n",
    "Create a map of Catholic and Protestant schools in the Netherlands\n"
   ]
  },
  {
   "cell_type": "code",
   "execution_count": null,
   "metadata": {},
   "outputs": [],
   "source": [
    "     #\n"
   ]
  },
  {
   "cell_type": "markdown",
   "metadata": {},
   "source": [
    "End of notebook"
   ]
  }
 ],
 "metadata": {
  "anaconda-cloud": {},
  "kernelspec": {
   "display_name": "R",
   "language": "R",
   "name": "ir"
  },
  "language_info": {
   "codemirror_mode": "r",
   "file_extension": ".r",
   "mimetype": "text/x-r-source",
   "name": "R",
   "pygments_lexer": "r",
   "version": "3.4.3"
  }
 },
 "nbformat": 4,
 "nbformat_minor": 1
}
