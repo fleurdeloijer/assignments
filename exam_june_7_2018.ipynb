{
 "cells": [
  {
   "cell_type": "markdown",
   "metadata": {},
   "source": [
    "Before you turn this problem in, make sure everything runs as expected. First, **restart the kernel** (in the menubar, select Kernel$\\rightarrow$Restart) and then **run all cells** (in the menubar, select Cell$\\rightarrow$Run All).\n",
    "\n",
    "Make sure you fill in any place that says `YOUR CODE HERE` or \"YOUR ANSWER HERE\", as well as your name and collaborators below:"
   ]
  },
  {
   "cell_type": "code",
   "execution_count": 10,
   "metadata": {},
   "outputs": [],
   "source": [
    "NAME = \"Florentia de Loijer, 2010437\"\n",
    "COLLABORATORS = \"Nick Starke, 2005453\""
   ]
  },
  {
   "cell_type": "markdown",
   "metadata": {},
   "source": [
    "---"
   ]
  },
  {
   "cell_type": "markdown",
   "metadata": {},
   "source": [
    "Fill in the cell above to provide us with your name and student number, like\n",
    "\n",
    "NAME = \"Adam Smith, #student number#\"\n",
    "\n",
    "where you replace \"#student number#\" with your ... (very good!)\n",
    "\n",
    "and if you are doing this with someone else (not more than one other person):\n",
    "\n",
    "COLLABORATORS = \"Karl Marx, #student number#\""
   ]
  },
  {
   "cell_type": "markdown",
   "metadata": {
    "deletable": false,
    "editable": false,
    "nbgrader": {
     "checksum": "a7ae5c69becf064d614c6c38935eca51",
     "grade": false,
     "grade_id": "cell-895e9a7b94992ec9",
     "locked": true,
     "schema_version": 1,
     "solution": false
    }
   },
   "source": [
    "# exam June 7th, 2018\n"
   ]
  },
  {
   "cell_type": "markdown",
   "metadata": {
    "deletable": false,
    "editable": false,
    "nbgrader": {
     "checksum": "bc48d165f54aa364aa34509649fcdef5",
     "grade": false,
     "grade_id": "cell-540987818af25557",
     "locked": true,
     "schema_version": 1,
     "solution": false
    }
   },
   "source": [
    "\n",
    "In the first cell of the notebook, give us your name and student number in the way indicated above. If you do this notebook with --at max.-- one other student, give her/his name and student number as well under \"COLLABORATORS\".\n",
    "\n",
    "Fill in the notebook (see below for code cells and text cells that you need to fill in).\n",
    "\n",
    "If you look at the menus above (File, Edit, View etc.), there is one called \"Cell\". If you click on this, you can change the \"Cell Type\". Choose \"Code\" when you are typing python or R code. Choose \"Markdown\" when you are typing, well, markdown.\n",
    "\n",
    "When you finish the notebook, make sure that you **save it with the output of your code included**. \n",
    "\n",
    "Then put it on github, e.g. by dragging it onto github (see instructions below). \n",
    "\n",
    "Finally, add a link to your README file with the name of this exam: \"Exam June 7, 2018\".\n",
    "\n"
   ]
  },
  {
   "cell_type": "markdown",
   "metadata": {
    "deletable": false,
    "editable": false,
    "nbgrader": {
     "checksum": "6fad9bed312da1b0097e9c520b18e3fb",
     "grade": false,
     "grade_id": "cell-e1cf88cb799f1f43",
     "locked": true,
     "schema_version": 1,
     "solution": false
    }
   },
   "source": [
    "## price effects of mergers\n",
    "\n",
    "We consider a merger in this notebook. \n",
    "\n",
    "First we calculate the equilibrium with three firms, denoted by 1, 2 and 3. Then firms 2 and 3 merge so that we are left with 2 firms; denoted by 1 and 2.\n",
    "\n",
    "We calculate the effects of the merger on the equilibrium price.\n",
    "\n",
    "We start by importing the usual libraries."
   ]
  },
  {
   "cell_type": "code",
   "execution_count": 3,
   "metadata": {
    "deletable": false,
    "editable": false,
    "nbgrader": {
     "checksum": "7bd770ef54db47c3b6c8d0e31f6baef6",
     "grade": false,
     "grade_id": "cell-b895769bf40e183a",
     "locked": true,
     "schema_version": 1,
     "solution": false
    }
   },
   "outputs": [],
   "source": [
    "import matplotlib.pyplot as plt\n",
    "import pandas as pd\n",
    "import numpy as np\n",
    "from scipy import optimize\n",
    "%matplotlib inline"
   ]
  },
  {
   "cell_type": "markdown",
   "metadata": {},
   "source": [
    "The following code helps to calculate the equilibrium for the case with 3 firms. Note that you have seen similar code during the tutorials to calculate the equilibrium with 2 firms.\n",
    "\n",
    "We assume that before the merger each firm has constant marginal costs equal to 0.3. We assume a simple linear (inverse) demand curve of the form $p=1-Q$ where $p$ denotes price and $Q$ total output on the market. Total output equals the sum of each firm's output: $Q= q_1 + q_2+q_3$."
   ]
  },
  {
   "cell_type": "code",
   "execution_count": 4,
   "metadata": {
    "deletable": false,
    "editable": false,
    "nbgrader": {
     "checksum": "3e30f7ac9d9155ef089b8ca56a0c0436",
     "grade": false,
     "grade_id": "cell-f97a25efed556fd2",
     "locked": true,
     "schema_version": 1,
     "solution": false
    }
   },
   "outputs": [],
   "source": [
    "c0 = 0.3\n",
    "vector_c = [c0]*3\n",
    "\n",
    "def p(Q):\n",
    "    return 1 - Q\n",
    "\n",
    "def costs(q,c):\n",
    "    return c*q\n",
    "\n",
    "def profits(q,Q_other,c):\n",
    "    return p(q+Q_other)*q-costs(q,c)\n",
    "\n",
    "def reaction(Q_other,c):\n",
    "    q1 =  optimize.fminbound(lambda x: -profits(x,Q_other,c),0,1,full_output=1)\n",
    "    return q1[0]\n",
    "\n",
    "def fixed_point_three_firms(vector_q,vector_c):\n",
    "    return [vector_q[0]-reaction(vector_q[1]+vector_q[2],vector_c[0]),\n",
    "            vector_q[1]-reaction(vector_q[0]+vector_q[2],vector_c[1]),\n",
    "            vector_q[2]-reaction(vector_q[0]+vector_q[1],vector_c[2])]\n",
    "\n"
   ]
  },
  {
   "cell_type": "markdown",
   "metadata": {
    "deletable": false,
    "editable": false,
    "nbgrader": {
     "checksum": "f6ea3b2416aca7293a5450c45865f242",
     "grade": false,
     "grade_id": "cell-83284c4090d6de8c",
     "locked": true,
     "schema_version": 1,
     "solution": false
    }
   },
   "source": [
    "#### a) [0.5 points] Show that total equilibrium output equals  0.525. Derive the equilibrium price and Herfindahl index; denote these by `P0` and `H0` resp."
   ]
  },
  {
   "cell_type": "code",
   "execution_count": 5,
   "metadata": {
    "deletable": false,
    "nbgrader": {
     "checksum": "a06d73c35395adb00480733b458cb4a5",
     "grade": true,
     "grade_id": "cell-3b8ee172d9950128",
     "locked": false,
     "points": 0.5,
     "schema_version": 1,
     "solution": true
    }
   },
   "outputs": [],
   "source": [
    "    #With optimize.fsolve we can calculate the equilibrium outputs of each firm, as we have used before. \n",
    "    #The sum of this will result into the answer of 0.525.\n",
    "initial_guess = [0,0,0]\n",
    "vector_q = optimize.fsolve(lambda q: fixed_point_three_firms(q,[0.3,0.3,0.3]), initial_guess)\n"
   ]
  },
  {
   "cell_type": "code",
   "execution_count": 7,
   "metadata": {},
   "outputs": [
    {
     "name": "stdout",
     "output_type": "stream",
     "text": [
      "0.525\n"
     ]
    }
   ],
   "source": [
    "    #We define Q as the total equilibrium output, so adding up the separate outputs we calculated before.  \n",
    "q1 = vector_q [0]\n",
    "q2 = vector_q [1]\n",
    "q3 = vector_q [2]\n",
    "Q = np.sum(vector_q)\n",
    "print(Q)\n"
   ]
  },
  {
   "cell_type": "code",
   "execution_count": 8,
   "metadata": {},
   "outputs": [
    {
     "name": "stdout",
     "output_type": "stream",
     "text": [
      "0.475\n"
     ]
    }
   ],
   "source": [
    "\n",
    "    #We can use this to calculate the equilibrium price with the formula given.\n",
    "P0 = 1-Q\n",
    "print(P0)"
   ]
  },
  {
   "cell_type": "code",
   "execution_count": 9,
   "metadata": {},
   "outputs": [
    {
     "name": "stdout",
     "output_type": "stream",
     "text": [
      "0.3333333333333333\n"
     ]
    }
   ],
   "source": [
    "    #At last we can define the Herfindahl index, which is the square of the percentage of the total.\n",
    "hhi = (q1/Q)**2 + (q2/Q)**2 + (q3/Q)**2\n",
    "print(hhi)"
   ]
  },
  {
   "cell_type": "markdown",
   "metadata": {
    "deletable": false,
    "editable": false,
    "nbgrader": {
     "checksum": "87b3b3e0e2d645c280e279312e489dc4",
     "grade": false,
     "grade_id": "cell-4b33762aa4a601fe",
     "locked": true,
     "schema_version": 1,
     "solution": false
    }
   },
   "source": [
    "#### b) [0.5 point] Define a function `fixed_point_two_firms` with the same structure as the function `fixed_point_three_firms` above, except that it derives the equilibrium output levels for a duopoly (two firms). Test this function by showing that each of the two firms produces 0.3333 in case both firms have zero costs."
   ]
  },
  {
   "cell_type": "code",
   "execution_count": 11,
   "metadata": {
    "deletable": false,
    "nbgrader": {
     "checksum": "024a1519155d681b57c85292df535a65",
     "grade": true,
     "grade_id": "cell-5ee215676b91f504",
     "locked": false,
     "points": 0.5,
     "schema_version": 1,
     "solution": true
    }
   },
   "outputs": [
    {
     "name": "stdout",
     "output_type": "stream",
     "text": [
      "[0.33333333 0.33333333]\n"
     ]
    }
   ],
   "source": [
    "    #The function has the same structure as before, but is now reduced to only two firms, which also changes the reactions.\n",
    "def fixed_point_two_firms(vector_q,vector_c):\n",
    "        return [vector_q[0]-reaction(vector_q[0],vector_c[0]),\n",
    "                vector_q[1]-reaction(vector_q[0],vector_c[1])]\n",
    "\n",
    "    #To show the production of both firms, we again use optimize.fsolve.\n",
    "initial_guess = [0,0]\n",
    "vector_q = optimize.fsolve(lambda q: fixed_point_two_firms(q,[0,0]), initial_guess)\n",
    "print(vector_q)\n",
    "   "
   ]
  },
  {
   "cell_type": "markdown",
   "metadata": {
    "deletable": false,
    "editable": false,
    "nbgrader": {
     "checksum": "5291fc8716e367572fde17ebe5844d2f",
     "grade": false,
     "grade_id": "cell-c2fada02efd7b197",
     "locked": true,
     "schema_version": 1,
     "solution": false
    }
   },
   "source": [
    "The Dutch competition authority, ACM, is asked to evaluate the effects of a merger between firms 2 and 3. Firms 2 and 3 claim that by merging they can reduce their constant marginal costs. But it is not clear by how much they will reduce their costs.\n",
    "\n",
    "The ACM assumes that the marginal cost level of the merged firm is uniformly distributed between 0 and the current marginal cost level `c0`. The merger will not affect the marginal cost level of firm 1 who does not merge. Firm 1's cost level remains `c0`.\n",
    "\n",
    "The next cell generates a vector of cost levels for the merged firm, denoted `c_after_merger`. Evaluate \"c_after_merger\" in a separate cell if you do not understand the command that defines it.\n",
    "\n",
    "Then it calculates the equilibrium output levels for (the non-merging) firm 1 and (the merged) firm 2.\n",
    "\n",
    "Note that you need to specify `initial_guess`.\n"
   ]
  },
  {
   "cell_type": "code",
   "execution_count": 12,
   "metadata": {
    "deletable": false,
    "editable": false,
    "nbgrader": {
     "checksum": "11299317cd53e31de9900700999b0324",
     "grade": false,
     "grade_id": "cell-ce91ab3e3225c57d",
     "locked": true,
     "schema_version": 1,
     "solution": false
    }
   },
   "outputs": [],
   "source": [
    "c_after_merger = np.random.uniform(0,c0,size = 100)\n",
    "\n",
    "q1_after_merger = [optimize.fsolve(lambda q: fixed_point_two_firms(q,[c0,c]), initial_guess)[0] for c in c_after_merger]\n",
    "q2_after_merger = [optimize.fsolve(lambda q: fixed_point_two_firms(q,[c0,c]), initial_guess)[1] for c in c_after_merger]\n",
    "\n",
    "\n"
   ]
  },
  {
   "cell_type": "code",
   "execution_count": 14,
   "metadata": {},
   "outputs": [
    {
     "name": "stdout",
     "output_type": "stream",
     "text": [
      "[0.26532702 0.04826212 0.09371319 0.2369878  0.15429772 0.05436952\n",
      " 0.03083426 0.29268251 0.08868798 0.08916129 0.22643784 0.15976442\n",
      " 0.19230873 0.08601783 0.1330283  0.29029082 0.27591445 0.10200327\n",
      " 0.11103152 0.12244165 0.23970955 0.28693045 0.1919281  0.21645705\n",
      " 0.24268701 0.0210688  0.12369032 0.10176293 0.03621773 0.26614075\n",
      " 0.03104634 0.11356676 0.17595272 0.20667335 0.22470231 0.00609422\n",
      " 0.07843665 0.15005109 0.13206635 0.0652585  0.15116704 0.0155774\n",
      " 0.13670731 0.06574282 0.00750947 0.19056429 0.14386534 0.01955857\n",
      " 0.03808334 0.00082589 0.22902618 0.0311587  0.17227986 0.0675388\n",
      " 0.13989555 0.24106126 0.20209426 0.04210623 0.0518504  0.27331764\n",
      " 0.27729215 0.19384305 0.29581496 0.22101944 0.01162061 0.13788519\n",
      " 0.2767096  0.11718152 0.02310009 0.15894941 0.05390606 0.28472515\n",
      " 0.1084879  0.05181841 0.01184061 0.09368361 0.11757841 0.20286225\n",
      " 0.18049561 0.26173901 0.03381868 0.11156474 0.05423513 0.22697483\n",
      " 0.11402771 0.10738621 0.15053808 0.08223876 0.10345589 0.1259443\n",
      " 0.23661838 0.01010508 0.13410697 0.06156353 0.24937159 0.15618263\n",
      " 0.29269718 0.14562414 0.07551075 0.05475967]\n"
     ]
    }
   ],
   "source": [
    "print (c_after_merger)"
   ]
  },
  {
   "cell_type": "code",
   "execution_count": 18,
   "metadata": {},
   "outputs": [
    {
     "name": "stdout",
     "output_type": "stream",
     "text": [
      "[0.23333333333333336, 0.2333333333333333, 0.2333333333333333, 0.2333333333333333, 0.2333333333333333, 0.2333333333333333, 0.23333333333333336, 0.23333333333333334, 0.23333333333333334, 0.2333333333333333, 0.23333333333333334, 0.2333333333333335, 0.2333333333333333, 0.23333333333333334, 0.2333333333333335, 0.2333333333333333, 0.23333333333333336, 0.23333333333333336, 0.23333333333333336, 0.23333333333333325, 0.2333333333333335, 0.23333333333333336, 0.23333333333333334, 0.23333333333333325, 0.2333333333333333, 0.23333333333333336, 0.23333333333333336, 0.23333333333333336, 0.23333333333333334, 0.23333333333333336, 0.2333333333333333, 0.23333333333333336, 0.2333333333333333, 0.2333333333333333, 0.2333333333333333, 0.23333333333333325, 0.2333333333333333, 0.23333333333333325, 0.2333333333333335, 0.2333333333333333, 0.23333333333333334, 0.2333333333333333, 0.23333333333333334, 0.2333333333333333, 0.23333333333333336, 0.2333333333333335, 0.2333333333333333, 0.23333333333333334, 0.23333333333333334, 0.2333333333333333, 0.2333333333333334, 0.2333333333333335, 0.23333333333333336, 0.2333333333333333, 0.2333333333333333, 0.23333333333333336, 0.2333333333333333, 0.2333333333333333, 0.23333333333333325, 0.23333333333333334, 0.23333333333333334, 0.2333333333333333, 0.23333333333333334, 0.2333333333333333, 0.2333333333333333, 0.2333333333333333, 0.23333333333333336, 0.23333333333333325, 0.23333333333333325, 0.2333333333333335, 0.2333333333333333, 0.23333333333333336, 0.23333333333333325, 0.2333333333333333, 0.2333333333333333, 0.23333333333333336, 0.23333333333333325, 0.2333333333333333, 0.2333333333333333, 0.2333333333333333, 0.23333333333333336, 0.2333333333333333, 0.2333333333333333, 0.23333333333333336, 0.23333333333333325, 0.23333333333333325, 0.2333333333333333, 0.23333333333333334, 0.2333333333333333, 0.2333333333333333, 0.23333333333333336, 0.2333333333333334, 0.23333333333333336, 0.23333333333333336, 0.23333333333333336, 0.2333333333333333, 0.2333333333333333, 0.23333333333333325, 0.23333333333333336, 0.2333333333333335]\n"
     ]
    }
   ],
   "source": [
    "print (q1_after_merger)"
   ]
  },
  {
   "cell_type": "code",
   "execution_count": 19,
   "metadata": {},
   "outputs": [
    {
     "name": "stdout",
     "output_type": "stream",
     "text": [
      "[0.25066982174547675, 0.3592022733312551, 0.33647674006810757, 0.2648394315415162, 0.3061844732140495, 0.35614857462833244, 0.3679162026228888, 0.2369920775831955, 0.3389893411759299, 0.33875268995969926, 0.2701144125277639, 0.30345112327027585, 0.2871789673986129, 0.34032441929316537, 0.3168191835646552, 0.2381879254157111, 0.24537610694836873, 0.3323316999276366, 0.32781757454086696, 0.32211250853973833, 0.26347855639059625, 0.23986811011015163, 0.2873692814576967, 0.27510480997738623, 0.2619898293640455, 0.3727989322911102, 0.3214881729368238, 0.33245186695211215, 0.36522447049864765, 0.25026295851991787, 0.36781016465847866, 0.3265499545862291, 0.29535697116319326, 0.2799966588840549, 0.27098217872332636, 0.380286222885482, 0.3441150081449893, 0.30830778616557675, 0.31730015965773783, 0.35070408333579095, 0.3077498124173993, 0.3755446319172187, 0.314979675892554, 0.3504619227126997, 0.3795785981854299, 0.2880511899230866, 0.3114006653807778, 0.37355404958051663, 0.3642916646381818, 0.3829203907726079, 0.2688202418137396, 0.3677539834092422, 0.29719340191450205, 0.34956393268537816, 0.31338555803344387, 0.2628027056972445, 0.2822862034096603, 0.36228021859241993, 0.3574081317403143, 0.2466745121624879, 0.24468725949799908, 0.2864118092708898, 0.23542585539269983, 0.2728236136362031, 0.3775230266103521, 0.3143907360113712, 0.24497853479855952, 0.3247425757616977, 0.3717832880859318, 0.3038586283295622, 0.356380302221196, 0.24097075901822634, 0.32908938577937064, 0.3574241259519209, 0.37741302829132584, 0.33649152678728594, 0.3245441276593675, 0.28190220694841917, 0.29308552941883326, 0.25246383078278845, 0.36642399376898976, 0.32755096514597914, 0.35621576782868825, 0.2698459181395078, 0.32631947904198627, 0.3296402269334725, 0.3080642948125587, 0.3422139514238273, 0.33160538628889435, 0.3203611825595507, 0.265024145623401, 0.37828079364516676, 0.31627984715382385, 0.3525515660641958, 0.2586475380088055, 0.30524201813359264, 0.23698474211355097, 0.3105212632184878, 0.3455779591235655, 0.3559534967244374]\n"
     ]
    }
   ],
   "source": [
    "print (q2_after_merger)"
   ]
  },
  {
   "cell_type": "markdown",
   "metadata": {
    "deletable": false,
    "editable": false,
    "nbgrader": {
     "checksum": "2b518306d6ff20ee42d0bc3085333095",
     "grade": false,
     "grade_id": "cell-0acc18b4f07a09f4",
     "locked": true,
     "schema_version": 1,
     "solution": false
    }
   },
   "source": [
    "#### c) [0.5 points] Create a dataframe called `df_after_merger` with three columns: `c_merged_firm`, `output_non_merging_firm`, `output_merged_firm` containing resp. the cost level of the merged firm, the output level of firm 1 and the output level of firm 2."
   ]
  },
  {
   "cell_type": "code",
   "execution_count": 32,
   "metadata": {
    "deletable": false,
    "nbgrader": {
     "checksum": "f4fc6a3bdef91fa3f656ccd3290c9f54",
     "grade": true,
     "grade_id": "cell-f3eacda828774f2d",
     "locked": false,
     "points": 0.5,
     "schema_version": 1,
     "solution": true
    }
   },
   "outputs": [
    {
     "name": "stdout",
     "output_type": "stream",
     "text": [
      "[[0.26532702 0.23333333 0.25066982]\n",
      " [0.04826212 0.23333333 0.35920227]\n",
      " [0.09371319 0.23333333 0.33647674]\n",
      " [0.2369878  0.23333333 0.26483943]\n",
      " [0.15429772 0.23333333 0.30618447]\n",
      " [0.05436952 0.23333333 0.35614857]\n",
      " [0.03083426 0.23333333 0.3679162 ]\n",
      " [0.29268251 0.23333333 0.23699208]\n",
      " [0.08868798 0.23333333 0.33898934]\n",
      " [0.08916129 0.23333333 0.33875269]\n",
      " [0.22643784 0.23333333 0.27011441]\n",
      " [0.15976442 0.23333333 0.30345112]\n",
      " [0.19230873 0.23333333 0.28717897]\n",
      " [0.08601783 0.23333333 0.34032442]\n",
      " [0.1330283  0.23333333 0.31681918]\n",
      " [0.29029082 0.23333333 0.23818793]\n",
      " [0.27591445 0.23333333 0.24537611]\n",
      " [0.10200327 0.23333333 0.3323317 ]\n",
      " [0.11103152 0.23333333 0.32781757]\n",
      " [0.12244165 0.23333333 0.32211251]\n",
      " [0.23970955 0.23333333 0.26347856]\n",
      " [0.28693045 0.23333333 0.23986811]\n",
      " [0.1919281  0.23333333 0.28736928]\n",
      " [0.21645705 0.23333333 0.27510481]\n",
      " [0.24268701 0.23333333 0.26198983]\n",
      " [0.0210688  0.23333333 0.37279893]\n",
      " [0.12369032 0.23333333 0.32148817]\n",
      " [0.10176293 0.23333333 0.33245187]\n",
      " [0.03621773 0.23333333 0.36522447]\n",
      " [0.26614075 0.23333333 0.25026296]\n",
      " [0.03104634 0.23333333 0.36781016]\n",
      " [0.11356676 0.23333333 0.32654995]\n",
      " [0.17595272 0.23333333 0.29535697]\n",
      " [0.20667335 0.23333333 0.27999666]\n",
      " [0.22470231 0.23333333 0.27098218]\n",
      " [0.00609422 0.23333333 0.38028622]\n",
      " [0.07843665 0.23333333 0.34411501]\n",
      " [0.15005109 0.23333333 0.30830779]\n",
      " [0.13206635 0.23333333 0.31730016]\n",
      " [0.0652585  0.23333333 0.35070408]\n",
      " [0.15116704 0.23333333 0.30774981]\n",
      " [0.0155774  0.23333333 0.37554463]\n",
      " [0.13670731 0.23333333 0.31497968]\n",
      " [0.06574282 0.23333333 0.35046192]\n",
      " [0.00750947 0.23333333 0.3795786 ]\n",
      " [0.19056429 0.23333333 0.28805119]\n",
      " [0.14386534 0.23333333 0.31140067]\n",
      " [0.01955857 0.23333333 0.37355405]\n",
      " [0.03808334 0.23333333 0.36429166]\n",
      " [0.00082589 0.23333333 0.38292039]\n",
      " [0.22902618 0.23333333 0.26882024]\n",
      " [0.0311587  0.23333333 0.36775398]\n",
      " [0.17227986 0.23333333 0.2971934 ]\n",
      " [0.0675388  0.23333333 0.34956393]\n",
      " [0.13989555 0.23333333 0.31338556]\n",
      " [0.24106126 0.23333333 0.26280271]\n",
      " [0.20209426 0.23333333 0.2822862 ]\n",
      " [0.04210623 0.23333333 0.36228022]\n",
      " [0.0518504  0.23333333 0.35740813]\n",
      " [0.27331764 0.23333333 0.24667451]\n",
      " [0.27729215 0.23333333 0.24468726]\n",
      " [0.19384305 0.23333333 0.28641181]\n",
      " [0.29581496 0.23333333 0.23542586]\n",
      " [0.22101944 0.23333333 0.27282361]\n",
      " [0.01162061 0.23333333 0.37752303]\n",
      " [0.13788519 0.23333333 0.31439074]\n",
      " [0.2767096  0.23333333 0.24497853]\n",
      " [0.11718152 0.23333333 0.32474258]\n",
      " [0.02310009 0.23333333 0.37178329]\n",
      " [0.15894941 0.23333333 0.30385863]\n",
      " [0.05390606 0.23333333 0.3563803 ]\n",
      " [0.28472515 0.23333333 0.24097076]\n",
      " [0.1084879  0.23333333 0.32908939]\n",
      " [0.05181841 0.23333333 0.35742413]\n",
      " [0.01184061 0.23333333 0.37741303]\n",
      " [0.09368361 0.23333333 0.33649153]\n",
      " [0.11757841 0.23333333 0.32454413]\n",
      " [0.20286225 0.23333333 0.28190221]\n",
      " [0.18049561 0.23333333 0.29308553]\n",
      " [0.26173901 0.23333333 0.25246383]\n",
      " [0.03381868 0.23333333 0.36642399]\n",
      " [0.11156474 0.23333333 0.32755097]\n",
      " [0.05423513 0.23333333 0.35621577]\n",
      " [0.22697483 0.23333333 0.26984592]\n",
      " [0.11402771 0.23333333 0.32631948]\n",
      " [0.10738621 0.23333333 0.32964023]\n",
      " [0.15053808 0.23333333 0.30806429]\n",
      " [0.08223876 0.23333333 0.34221395]\n",
      " [0.10345589 0.23333333 0.33160539]\n",
      " [0.1259443  0.23333333 0.32036118]\n",
      " [0.23661838 0.23333333 0.26502415]\n",
      " [0.01010508 0.23333333 0.37828079]\n",
      " [0.13410697 0.23333333 0.31627985]\n",
      " [0.06156353 0.23333333 0.35255157]\n",
      " [0.24937159 0.23333333 0.25864754]\n",
      " [0.15618263 0.23333333 0.30524202]\n",
      " [0.29269718 0.23333333 0.23698474]\n",
      " [0.14562414 0.23333333 0.31052126]\n",
      " [0.07551075 0.23333333 0.34557796]\n",
      " [0.05475967 0.23333333 0.3559535 ]]\n"
     ]
    }
   ],
   "source": [
    "    # By taking the given arrrays, we can make the datafrom with pandas by first collecting all arrays in one 'data' variable\n",
    "    # This data variable needs to have the right shape, therefore a transpose function is used\n",
    "columns = ['c_merged_firm','output_non_merging_firm','output_merged_firm']\n",
    "\n",
    "data = np.array([c_after_merger, q1_after_merger, q2_after_merger])\n",
    "data = np.transpose(data)\n",
    "print(data)"
   ]
  },
  {
   "cell_type": "code",
   "execution_count": 33,
   "metadata": {},
   "outputs": [],
   "source": [
    "# The dataframe can now be created\n",
    "df_after_merger = pd.DataFrame( data, columns=columns)"
   ]
  },
  {
   "cell_type": "code",
   "execution_count": 34,
   "metadata": {},
   "outputs": [
    {
     "name": "stdout",
     "output_type": "stream",
     "text": [
      "    c_merged_firm  output_non_merging_firm  output_merged_firm\n",
      "0        0.265327                 0.233333            0.250670\n",
      "1        0.048262                 0.233333            0.359202\n",
      "2        0.093713                 0.233333            0.336477\n",
      "3        0.236988                 0.233333            0.264839\n",
      "4        0.154298                 0.233333            0.306184\n",
      "5        0.054370                 0.233333            0.356149\n",
      "6        0.030834                 0.233333            0.367916\n",
      "7        0.292683                 0.233333            0.236992\n",
      "8        0.088688                 0.233333            0.338989\n",
      "9        0.089161                 0.233333            0.338753\n",
      "10       0.226438                 0.233333            0.270114\n",
      "11       0.159764                 0.233333            0.303451\n",
      "12       0.192309                 0.233333            0.287179\n",
      "13       0.086018                 0.233333            0.340324\n",
      "14       0.133028                 0.233333            0.316819\n",
      "15       0.290291                 0.233333            0.238188\n",
      "16       0.275914                 0.233333            0.245376\n",
      "17       0.102003                 0.233333            0.332332\n",
      "18       0.111032                 0.233333            0.327818\n",
      "19       0.122442                 0.233333            0.322113\n",
      "20       0.239710                 0.233333            0.263479\n",
      "21       0.286930                 0.233333            0.239868\n",
      "22       0.191928                 0.233333            0.287369\n",
      "23       0.216457                 0.233333            0.275105\n",
      "24       0.242687                 0.233333            0.261990\n",
      "25       0.021069                 0.233333            0.372799\n",
      "26       0.123690                 0.233333            0.321488\n",
      "27       0.101763                 0.233333            0.332452\n",
      "28       0.036218                 0.233333            0.365224\n",
      "29       0.266141                 0.233333            0.250263\n",
      "..            ...                      ...                 ...\n",
      "70       0.053906                 0.233333            0.356380\n",
      "71       0.284725                 0.233333            0.240971\n",
      "72       0.108488                 0.233333            0.329089\n",
      "73       0.051818                 0.233333            0.357424\n",
      "74       0.011841                 0.233333            0.377413\n",
      "75       0.093684                 0.233333            0.336492\n",
      "76       0.117578                 0.233333            0.324544\n",
      "77       0.202862                 0.233333            0.281902\n",
      "78       0.180496                 0.233333            0.293086\n",
      "79       0.261739                 0.233333            0.252464\n",
      "80       0.033819                 0.233333            0.366424\n",
      "81       0.111565                 0.233333            0.327551\n",
      "82       0.054235                 0.233333            0.356216\n",
      "83       0.226975                 0.233333            0.269846\n",
      "84       0.114028                 0.233333            0.326319\n",
      "85       0.107386                 0.233333            0.329640\n",
      "86       0.150538                 0.233333            0.308064\n",
      "87       0.082239                 0.233333            0.342214\n",
      "88       0.103456                 0.233333            0.331605\n",
      "89       0.125944                 0.233333            0.320361\n",
      "90       0.236618                 0.233333            0.265024\n",
      "91       0.010105                 0.233333            0.378281\n",
      "92       0.134107                 0.233333            0.316280\n",
      "93       0.061564                 0.233333            0.352552\n",
      "94       0.249372                 0.233333            0.258648\n",
      "95       0.156183                 0.233333            0.305242\n",
      "96       0.292697                 0.233333            0.236985\n",
      "97       0.145624                 0.233333            0.310521\n",
      "98       0.075511                 0.233333            0.345578\n",
      "99       0.054760                 0.233333            0.355953\n",
      "\n",
      "[100 rows x 3 columns]\n"
     ]
    }
   ],
   "source": [
    "print (df_after_merger)"
   ]
  },
  {
   "cell_type": "markdown",
   "metadata": {
    "deletable": false,
    "editable": false,
    "nbgrader": {
     "checksum": "a5bf4171960844da9c57375d83b6eedf",
     "grade": false,
     "grade_id": "cell-7ad058be42e19df8",
     "locked": true,
     "schema_version": 1,
     "solution": false
    }
   },
   "source": [
    "#### d) [0.5 points] Add three columns to the dataframe with resp. total equilibrium output on the market, `Q`, equilibrium price, `P` and the Herfindahl index, `H`."
   ]
  },
  {
   "cell_type": "code",
   "execution_count": 35,
   "metadata": {
    "deletable": false,
    "nbgrader": {
     "checksum": "ab6179623b39a6ae634abea45326e4ab",
     "grade": true,
     "grade_id": "cell-9c39b11747803ca1",
     "locked": false,
     "points": 0.5,
     "schema_version": 1,
     "solution": true
    }
   },
   "outputs": [
    {
     "name": "stdout",
     "output_type": "stream",
     "text": [
      "    c_merged_firm  output_non_merging_firm  output_merged_firm         Q  \\\n",
      "0        0.265327                 0.233333            0.250670  0.484003   \n",
      "1        0.048262                 0.233333            0.359202  0.592536   \n",
      "2        0.093713                 0.233333            0.336477  0.569810   \n",
      "3        0.236988                 0.233333            0.264839  0.498173   \n",
      "4        0.154298                 0.233333            0.306184  0.539518   \n",
      "5        0.054370                 0.233333            0.356149  0.589482   \n",
      "6        0.030834                 0.233333            0.367916  0.601250   \n",
      "7        0.292683                 0.233333            0.236992  0.470325   \n",
      "8        0.088688                 0.233333            0.338989  0.572323   \n",
      "9        0.089161                 0.233333            0.338753  0.572086   \n",
      "10       0.226438                 0.233333            0.270114  0.503448   \n",
      "11       0.159764                 0.233333            0.303451  0.536784   \n",
      "12       0.192309                 0.233333            0.287179  0.520512   \n",
      "13       0.086018                 0.233333            0.340324  0.573658   \n",
      "14       0.133028                 0.233333            0.316819  0.550153   \n",
      "15       0.290291                 0.233333            0.238188  0.471521   \n",
      "16       0.275914                 0.233333            0.245376  0.478709   \n",
      "17       0.102003                 0.233333            0.332332  0.565665   \n",
      "18       0.111032                 0.233333            0.327818  0.561151   \n",
      "19       0.122442                 0.233333            0.322113  0.555446   \n",
      "20       0.239710                 0.233333            0.263479  0.496812   \n",
      "21       0.286930                 0.233333            0.239868  0.473201   \n",
      "22       0.191928                 0.233333            0.287369  0.520703   \n",
      "23       0.216457                 0.233333            0.275105  0.508438   \n",
      "24       0.242687                 0.233333            0.261990  0.495323   \n",
      "25       0.021069                 0.233333            0.372799  0.606132   \n",
      "26       0.123690                 0.233333            0.321488  0.554822   \n",
      "27       0.101763                 0.233333            0.332452  0.565785   \n",
      "28       0.036218                 0.233333            0.365224  0.598558   \n",
      "29       0.266141                 0.233333            0.250263  0.483596   \n",
      "..            ...                      ...                 ...       ...   \n",
      "70       0.053906                 0.233333            0.356380  0.589714   \n",
      "71       0.284725                 0.233333            0.240971  0.474304   \n",
      "72       0.108488                 0.233333            0.329089  0.562423   \n",
      "73       0.051818                 0.233333            0.357424  0.590757   \n",
      "74       0.011841                 0.233333            0.377413  0.610746   \n",
      "75       0.093684                 0.233333            0.336492  0.569825   \n",
      "76       0.117578                 0.233333            0.324544  0.557877   \n",
      "77       0.202862                 0.233333            0.281902  0.515236   \n",
      "78       0.180496                 0.233333            0.293086  0.526419   \n",
      "79       0.261739                 0.233333            0.252464  0.485797   \n",
      "80       0.033819                 0.233333            0.366424  0.599757   \n",
      "81       0.111565                 0.233333            0.327551  0.560884   \n",
      "82       0.054235                 0.233333            0.356216  0.589549   \n",
      "83       0.226975                 0.233333            0.269846  0.503179   \n",
      "84       0.114028                 0.233333            0.326319  0.559653   \n",
      "85       0.107386                 0.233333            0.329640  0.562974   \n",
      "86       0.150538                 0.233333            0.308064  0.541398   \n",
      "87       0.082239                 0.233333            0.342214  0.575547   \n",
      "88       0.103456                 0.233333            0.331605  0.564939   \n",
      "89       0.125944                 0.233333            0.320361  0.553695   \n",
      "90       0.236618                 0.233333            0.265024  0.498357   \n",
      "91       0.010105                 0.233333            0.378281  0.611614   \n",
      "92       0.134107                 0.233333            0.316280  0.549613   \n",
      "93       0.061564                 0.233333            0.352552  0.585885   \n",
      "94       0.249372                 0.233333            0.258648  0.491981   \n",
      "95       0.156183                 0.233333            0.305242  0.538575   \n",
      "96       0.292697                 0.233333            0.236985  0.470318   \n",
      "97       0.145624                 0.233333            0.310521  0.543855   \n",
      "98       0.075511                 0.233333            0.345578  0.578911   \n",
      "99       0.054760                 0.233333            0.355953  0.589287   \n",
      "\n",
      "           P         H  \n",
      "0   0.515997  1.302465  \n",
      "1   0.407464  1.178150  \n",
      "2   0.430190  1.204007  \n",
      "3   0.501827  1.286521  \n",
      "4   0.460482  1.238936  \n",
      "5   0.410518  1.181600  \n",
      "6   0.398750  1.168353  \n",
      "7   0.529675  1.317489  \n",
      "8   0.427677  1.201129  \n",
      "9   0.427914  1.201400  \n",
      "10  0.496552  1.280515  \n",
      "11  0.463216  1.242100  \n",
      "12  0.479488  1.260914  \n",
      "13  0.426342  1.199602  \n",
      "14  0.449847  1.226637  \n",
      "15  0.528479  1.316194  \n",
      "16  0.521291  1.308330  \n",
      "17  0.434335  1.208763  \n",
      "18  0.438849  1.213953  \n",
      "19  0.444554  1.220527  \n",
      "20  0.503188  1.288066  \n",
      "21  0.526799  1.314367  \n",
      "22  0.479297  1.260695  \n",
      "23  0.491562  1.274806  \n",
      "24  0.504677  1.289752  \n",
      "25  0.393868  1.162895  \n",
      "26  0.445178  1.221247  \n",
      "27  0.434215  1.208625  \n",
      "28  0.401442  1.171371  \n",
      "29  0.516404  1.302918  \n",
      "..       ...       ...  \n",
      "70  0.410286  1.181338  \n",
      "71  0.525696  1.313164  \n",
      "72  0.437577  1.212489  \n",
      "73  0.409243  1.180158  \n",
      "74  0.389254  1.157760  \n",
      "75  0.430175  1.203990  \n",
      "76  0.442123  1.217723  \n",
      "77  0.484764  1.266997  \n",
      "78  0.473581  1.254092  \n",
      "79  0.514203  1.300465  \n",
      "80  0.400243  1.170025  \n",
      "81  0.439116  1.214260  \n",
      "82  0.410451  1.181524  \n",
      "83  0.496821  1.280821  \n",
      "84  0.440347  1.215678  \n",
      "85  0.437026  1.211856  \n",
      "86  0.458602  1.236761  \n",
      "87  0.424453  1.197442  \n",
      "88  0.435061  1.209597  \n",
      "89  0.446305  1.222547  \n",
      "90  0.501643  1.286312  \n",
      "91  0.388386  1.156797  \n",
      "92  0.450387  1.227261  \n",
      "93  0.414115  1.185675  \n",
      "94  0.508019  1.293527  \n",
      "95  0.461425  1.240027  \n",
      "96  0.529682  1.317497  \n",
      "97  0.456145  1.233918  \n",
      "98  0.421089  1.193604  \n",
      "99  0.410713  1.181821  \n",
      "\n",
      "[100 rows x 6 columns]\n"
     ]
    }
   ],
   "source": [
    "    #These columns are added with use of the df_after_merger\n",
    "    #The information in the columns can be found by gathering the information of other columns\n",
    "df_after_merger['Q'] = df_after_merger['output_non_merging_firm']+df_after_merger['output_merged_firm']\n",
    "df_after_merger['P'] = 1 - df_after_merger['Q']\n",
    "df_after_merger['H'] = (df_after_merger['output_non_merging_firm']/df_after_merger['Q'])**2+(df_after_merger['output_merged_firm']/df_after_merger['Q']**2)\n",
    "\n",
    "df_after_merger.head()\n",
    "\n",
    "print (df_after_merger)"
   ]
  },
  {
   "cell_type": "markdown",
   "metadata": {},
   "source": [
    "#### e) [0.5 points] Make a histogram of the equilibrium price `P` after the merger. Also indicate in the histogram the equilibrium price before the merger `P0`. Label the horizontal axis with $P$.\n",
    "\n",
    "[hint: you may want to use matplotlib's `hist`, `vlines` and `legend` to make this graph (e.g use google to find these functions); but feel free to use something else]"
   ]
  },
  {
   "cell_type": "code",
   "execution_count": 69,
   "metadata": {
    "deletable": false,
    "nbgrader": {
     "checksum": "b103cd98545261b20f937f4b9db67f68",
     "grade": true,
     "grade_id": "cell-f9193bf8e71f1a9a",
     "locked": false,
     "points": 0.5,
     "schema_version": 1,
     "solution": true
    }
   },
   "outputs": [
    {
     "data": {
      "text/plain": [
       "<matplotlib.lines.Line2D at 0x1510dd51e10>"
      ]
     },
     "execution_count": 69,
     "metadata": {},
     "output_type": "execute_result"
    },
    {
     "data": {
      "image/png": "[encoded data removed]",
      "text/plain": [
       "<matplotlib.figure.Figure at 0x1510dc51fd0>"
      ]
     },
     "metadata": {},
     "output_type": "display_data"
    }
   ],
   "source": [
    "# The price column is taken from the dataframe and stored in a new variable to exclude the index information\n",
    "price = np.array( [df_after_merger['P'].iloc[i] for i in range(100)] )\n",
    "plt.hist(price, bins=10 )\n",
    "\n",
    "plt.axvline(P0, color='k', linestyle='dashed', linewidth=1)"
   ]
  },
  {
   "cell_type": "markdown",
   "metadata": {},
   "source": [
    "#### f) [0.5 points] Explain why sometimes the equilibrium price after the merger exceeds the equilibrium price before the merger and sometimes it is lower than the pre-merger price. [hint: there is a trade off between two effects, depending on which effect dominates, equilibrium price increases or decreases after the merger]"
   ]
  },
  {
   "cell_type": "markdown",
   "metadata": {
    "deletable": false,
    "nbgrader": {
     "checksum": "dd9fc721b7cf7f66587e93cbfb758034",
     "grade": true,
     "grade_id": "cell-7a1f367cd2854156",
     "locked": false,
     "points": 0.5,
     "schema_version": 1,
     "solution": true
    }
   },
   "source": [
    "In some cases the production cost will decrease, while in other case they will increase. Which has direct influence on the price."
   ]
  },
  {
   "cell_type": "markdown",
   "metadata": {
    "deletable": false,
    "editable": false,
    "nbgrader": {
     "checksum": "e1e41dbf14c605bf91cdc78f70eada99",
     "grade": false,
     "grade_id": "cell-06ed6044f8938a45",
     "locked": true,
     "schema_version": 1,
     "solution": false
    }
   },
   "source": [
    "#### g) [0.5 points] Make a graph with the Herfindahl index on the horizontal axis and the equilibrium price on the vertical axis. This is straightforward for $(H,P)$ after the merger as both values are in the dataframe. Add in another color, the pre-merger combination `(H0,P0)` that we calculated above."
   ]
  },
  {
   "cell_type": "code",
   "execution_count": 68,
   "metadata": {
    "deletable": false,
    "nbgrader": {
     "checksum": "51cfaacbaf533e85d9794bc74712afd5",
     "grade": true,
     "grade_id": "cell-d647464d04870b73",
     "locked": false,
     "points": 0.5,
     "schema_version": 1,
     "solution": true
    }
   },
   "outputs": [
    {
     "ename": "ValueError",
     "evalue": "x and y must have same first dimension, but have shapes (1,) and (100,)",
     "output_type": "error",
     "traceback": [
      "\u001b[1;31m---------------------------------------------------------------------------\u001b[0m",
      "\u001b[1;31mValueError\u001b[0m                                Traceback (most recent call last)",
      "\u001b[1;32m<ipython-input-68-dc68a8b1500b>\u001b[0m in \u001b[0;36m<module>\u001b[1;34m()\u001b[0m\n\u001b[0;32m      3\u001b[0m \u001b[1;31m#print ( hii.tolist() )\u001b[0m\u001b[1;33m\u001b[0m\u001b[1;33m\u001b[0m\u001b[0m\n\u001b[0;32m      4\u001b[0m \u001b[1;33m\u001b[0m\u001b[0m\n\u001b[1;32m----> 5\u001b[1;33m \u001b[0mplt\u001b[0m\u001b[1;33m.\u001b[0m\u001b[0mplot\u001b[0m\u001b[1;33m(\u001b[0m \u001b[0mhhi\u001b[0m\u001b[1;33m.\u001b[0m\u001b[0mtolist\u001b[0m\u001b[1;33m(\u001b[0m\u001b[1;33m)\u001b[0m\u001b[1;33m,\u001b[0m \u001b[0mprice\u001b[0m\u001b[1;33m.\u001b[0m\u001b[0mtolist\u001b[0m\u001b[1;33m(\u001b[0m\u001b[1;33m)\u001b[0m\u001b[1;33m)\u001b[0m\u001b[1;33m\u001b[0m\u001b[0m\n\u001b[0m",
      "\u001b[1;32m~\\Anaconda3\\lib\\site-packages\\matplotlib\\pyplot.py\u001b[0m in \u001b[0;36mplot\u001b[1;34m(*args, **kwargs)\u001b[0m\n\u001b[0;32m   3259\u001b[0m                       mplDeprecation)\n\u001b[0;32m   3260\u001b[0m     \u001b[1;32mtry\u001b[0m\u001b[1;33m:\u001b[0m\u001b[1;33m\u001b[0m\u001b[0m\n\u001b[1;32m-> 3261\u001b[1;33m         \u001b[0mret\u001b[0m \u001b[1;33m=\u001b[0m \u001b[0max\u001b[0m\u001b[1;33m.\u001b[0m\u001b[0mplot\u001b[0m\u001b[1;33m(\u001b[0m\u001b[1;33m*\u001b[0m\u001b[0margs\u001b[0m\u001b[1;33m,\u001b[0m \u001b[1;33m**\u001b[0m\u001b[0mkwargs\u001b[0m\u001b[1;33m)\u001b[0m\u001b[1;33m\u001b[0m\u001b[0m\n\u001b[0m\u001b[0;32m   3262\u001b[0m     \u001b[1;32mfinally\u001b[0m\u001b[1;33m:\u001b[0m\u001b[1;33m\u001b[0m\u001b[0m\n\u001b[0;32m   3263\u001b[0m         \u001b[0max\u001b[0m\u001b[1;33m.\u001b[0m\u001b[0m_hold\u001b[0m \u001b[1;33m=\u001b[0m \u001b[0mwashold\u001b[0m\u001b[1;33m\u001b[0m\u001b[0m\n",
      "\u001b[1;32m~\\Anaconda3\\lib\\site-packages\\matplotlib\\__init__.py\u001b[0m in \u001b[0;36minner\u001b[1;34m(ax, *args, **kwargs)\u001b[0m\n\u001b[0;32m   1715\u001b[0m                     warnings.warn(msg % (label_namer, func.__name__),\n\u001b[0;32m   1716\u001b[0m                                   RuntimeWarning, stacklevel=2)\n\u001b[1;32m-> 1717\u001b[1;33m             \u001b[1;32mreturn\u001b[0m \u001b[0mfunc\u001b[0m\u001b[1;33m(\u001b[0m\u001b[0max\u001b[0m\u001b[1;33m,\u001b[0m \u001b[1;33m*\u001b[0m\u001b[0margs\u001b[0m\u001b[1;33m,\u001b[0m \u001b[1;33m**\u001b[0m\u001b[0mkwargs\u001b[0m\u001b[1;33m)\u001b[0m\u001b[1;33m\u001b[0m\u001b[0m\n\u001b[0m\u001b[0;32m   1718\u001b[0m         \u001b[0mpre_doc\u001b[0m \u001b[1;33m=\u001b[0m \u001b[0minner\u001b[0m\u001b[1;33m.\u001b[0m\u001b[0m__doc__\u001b[0m\u001b[1;33m\u001b[0m\u001b[0m\n\u001b[0;32m   1719\u001b[0m         \u001b[1;32mif\u001b[0m \u001b[0mpre_doc\u001b[0m \u001b[1;32mis\u001b[0m \u001b[1;32mNone\u001b[0m\u001b[1;33m:\u001b[0m\u001b[1;33m\u001b[0m\u001b[0m\n",
      "\u001b[1;32m~\\Anaconda3\\lib\\site-packages\\matplotlib\\axes\\_axes.py\u001b[0m in \u001b[0;36mplot\u001b[1;34m(self, *args, **kwargs)\u001b[0m\n\u001b[0;32m   1370\u001b[0m         \u001b[0mkwargs\u001b[0m \u001b[1;33m=\u001b[0m \u001b[0mcbook\u001b[0m\u001b[1;33m.\u001b[0m\u001b[0mnormalize_kwargs\u001b[0m\u001b[1;33m(\u001b[0m\u001b[0mkwargs\u001b[0m\u001b[1;33m,\u001b[0m \u001b[0m_alias_map\u001b[0m\u001b[1;33m)\u001b[0m\u001b[1;33m\u001b[0m\u001b[0m\n\u001b[0;32m   1371\u001b[0m \u001b[1;33m\u001b[0m\u001b[0m\n\u001b[1;32m-> 1372\u001b[1;33m         \u001b[1;32mfor\u001b[0m \u001b[0mline\u001b[0m \u001b[1;32min\u001b[0m \u001b[0mself\u001b[0m\u001b[1;33m.\u001b[0m\u001b[0m_get_lines\u001b[0m\u001b[1;33m(\u001b[0m\u001b[1;33m*\u001b[0m\u001b[0margs\u001b[0m\u001b[1;33m,\u001b[0m \u001b[1;33m**\u001b[0m\u001b[0mkwargs\u001b[0m\u001b[1;33m)\u001b[0m\u001b[1;33m:\u001b[0m\u001b[1;33m\u001b[0m\u001b[0m\n\u001b[0m\u001b[0;32m   1373\u001b[0m             \u001b[0mself\u001b[0m\u001b[1;33m.\u001b[0m\u001b[0madd_line\u001b[0m\u001b[1;33m(\u001b[0m\u001b[0mline\u001b[0m\u001b[1;33m)\u001b[0m\u001b[1;33m\u001b[0m\u001b[0m\n\u001b[0;32m   1374\u001b[0m             \u001b[0mlines\u001b[0m\u001b[1;33m.\u001b[0m\u001b[0mappend\u001b[0m\u001b[1;33m(\u001b[0m\u001b[0mline\u001b[0m\u001b[1;33m)\u001b[0m\u001b[1;33m\u001b[0m\u001b[0m\n",
      "\u001b[1;32m~\\Anaconda3\\lib\\site-packages\\matplotlib\\axes\\_base.py\u001b[0m in \u001b[0;36m_grab_next_args\u001b[1;34m(self, *args, **kwargs)\u001b[0m\n\u001b[0;32m    402\u001b[0m                 \u001b[0mthis\u001b[0m \u001b[1;33m+=\u001b[0m \u001b[0margs\u001b[0m\u001b[1;33m[\u001b[0m\u001b[1;36m0\u001b[0m\u001b[1;33m]\u001b[0m\u001b[1;33m,\u001b[0m\u001b[1;33m\u001b[0m\u001b[0m\n\u001b[0;32m    403\u001b[0m                 \u001b[0margs\u001b[0m \u001b[1;33m=\u001b[0m \u001b[0margs\u001b[0m\u001b[1;33m[\u001b[0m\u001b[1;36m1\u001b[0m\u001b[1;33m:\u001b[0m\u001b[1;33m]\u001b[0m\u001b[1;33m\u001b[0m\u001b[0m\n\u001b[1;32m--> 404\u001b[1;33m             \u001b[1;32mfor\u001b[0m \u001b[0mseg\u001b[0m \u001b[1;32min\u001b[0m \u001b[0mself\u001b[0m\u001b[1;33m.\u001b[0m\u001b[0m_plot_args\u001b[0m\u001b[1;33m(\u001b[0m\u001b[0mthis\u001b[0m\u001b[1;33m,\u001b[0m \u001b[0mkwargs\u001b[0m\u001b[1;33m)\u001b[0m\u001b[1;33m:\u001b[0m\u001b[1;33m\u001b[0m\u001b[0m\n\u001b[0m\u001b[0;32m    405\u001b[0m                 \u001b[1;32myield\u001b[0m \u001b[0mseg\u001b[0m\u001b[1;33m\u001b[0m\u001b[0m\n\u001b[0;32m    406\u001b[0m \u001b[1;33m\u001b[0m\u001b[0m\n",
      "\u001b[1;32m~\\Anaconda3\\lib\\site-packages\\matplotlib\\axes\\_base.py\u001b[0m in \u001b[0;36m_plot_args\u001b[1;34m(self, tup, kwargs)\u001b[0m\n\u001b[0;32m    382\u001b[0m             \u001b[0mx\u001b[0m\u001b[1;33m,\u001b[0m \u001b[0my\u001b[0m \u001b[1;33m=\u001b[0m \u001b[0mindex_of\u001b[0m\u001b[1;33m(\u001b[0m\u001b[0mtup\u001b[0m\u001b[1;33m[\u001b[0m\u001b[1;33m-\u001b[0m\u001b[1;36m1\u001b[0m\u001b[1;33m]\u001b[0m\u001b[1;33m)\u001b[0m\u001b[1;33m\u001b[0m\u001b[0m\n\u001b[0;32m    383\u001b[0m \u001b[1;33m\u001b[0m\u001b[0m\n\u001b[1;32m--> 384\u001b[1;33m         \u001b[0mx\u001b[0m\u001b[1;33m,\u001b[0m \u001b[0my\u001b[0m \u001b[1;33m=\u001b[0m \u001b[0mself\u001b[0m\u001b[1;33m.\u001b[0m\u001b[0m_xy_from_xy\u001b[0m\u001b[1;33m(\u001b[0m\u001b[0mx\u001b[0m\u001b[1;33m,\u001b[0m \u001b[0my\u001b[0m\u001b[1;33m)\u001b[0m\u001b[1;33m\u001b[0m\u001b[0m\n\u001b[0m\u001b[0;32m    385\u001b[0m \u001b[1;33m\u001b[0m\u001b[0m\n\u001b[0;32m    386\u001b[0m         \u001b[1;32mif\u001b[0m \u001b[0mself\u001b[0m\u001b[1;33m.\u001b[0m\u001b[0mcommand\u001b[0m \u001b[1;33m==\u001b[0m \u001b[1;34m'plot'\u001b[0m\u001b[1;33m:\u001b[0m\u001b[1;33m\u001b[0m\u001b[0m\n",
      "\u001b[1;32m~\\Anaconda3\\lib\\site-packages\\matplotlib\\axes\\_base.py\u001b[0m in \u001b[0;36m_xy_from_xy\u001b[1;34m(self, x, y)\u001b[0m\n\u001b[0;32m    241\u001b[0m         \u001b[1;32mif\u001b[0m \u001b[0mx\u001b[0m\u001b[1;33m.\u001b[0m\u001b[0mshape\u001b[0m\u001b[1;33m[\u001b[0m\u001b[1;36m0\u001b[0m\u001b[1;33m]\u001b[0m \u001b[1;33m!=\u001b[0m \u001b[0my\u001b[0m\u001b[1;33m.\u001b[0m\u001b[0mshape\u001b[0m\u001b[1;33m[\u001b[0m\u001b[1;36m0\u001b[0m\u001b[1;33m]\u001b[0m\u001b[1;33m:\u001b[0m\u001b[1;33m\u001b[0m\u001b[0m\n\u001b[0;32m    242\u001b[0m             raise ValueError(\"x and y must have same first dimension, but \"\n\u001b[1;32m--> 243\u001b[1;33m                              \"have shapes {} and {}\".format(x.shape, y.shape))\n\u001b[0m\u001b[0;32m    244\u001b[0m         \u001b[1;32mif\u001b[0m \u001b[0mx\u001b[0m\u001b[1;33m.\u001b[0m\u001b[0mndim\u001b[0m \u001b[1;33m>\u001b[0m \u001b[1;36m2\u001b[0m \u001b[1;32mor\u001b[0m \u001b[0my\u001b[0m\u001b[1;33m.\u001b[0m\u001b[0mndim\u001b[0m \u001b[1;33m>\u001b[0m \u001b[1;36m2\u001b[0m\u001b[1;33m:\u001b[0m\u001b[1;33m\u001b[0m\u001b[0m\n\u001b[0;32m    245\u001b[0m             raise ValueError(\"x and y can be no greater than 2-D, but have \"\n",
      "\u001b[1;31mValueError\u001b[0m: x and y must have same first dimension, but have shapes (1,) and (100,)"
     ]
    },
    {
     "data": {
      "image/png": "[encoded data removed]",
      "text/plain": [
       "<matplotlib.figure.Figure at 0x1510dce64a8>"
      ]
     },
     "metadata": {},
     "output_type": "display_data"
    }
   ],
   "source": [
    "hii = np.array( [df_after_merger['H'].iloc[i] for i in range(100)] )\n",
    "\n",
    "plt.scatter( hhi.tolist(), price.tolist())"
   ]
  },
  {
   "cell_type": "markdown",
   "metadata": {
    "deletable": false,
    "editable": false,
    "nbgrader": {
     "checksum": "11b6609131b1c25886f2c6cafe0f7a59",
     "grade": false,
     "grade_id": "cell-5c5e5776a7c135a2",
     "locked": true,
     "schema_version": 1,
     "solution": false
    }
   },
   "source": [
    "#### h) [0.5 points] Use the graph under g) to discuss the relation between the Herfindahl index and the equilibrium price. To illustrate, some people think that lower values of the Herfindahl index are associated with more competitive outcome. Would you agree with this?"
   ]
  },
  {
   "cell_type": "markdown",
   "metadata": {
    "collapsed": true,
    "deletable": false,
    "nbgrader": {
     "checksum": "3d396887dde3b00420c623b9f4ea8ed2",
     "grade": true,
     "grade_id": "cell-cbd89d483b23a953",
     "locked": false,
     "points": 0.5,
     "schema_version": 1,
     "solution": true
    }
   },
   "source": [
    "I agree with this statement"
   ]
  },
  {
   "cell_type": "markdown",
   "metadata": {},
   "source": [
    "## Github\n",
    "\n",
    "After you have finished, we need to upload this notebook on github. Make sure that you upload the file on the github page of each collaborator."
   ]
  },
  {
   "cell_type": "markdown",
   "metadata": {},
   "source": [
    "Instructions on how to upload this on github can be found [on this page](http://janboone.github.io/programming-for-economists/github.html). This page has two screencasts: one shows how to drag the notebook onto your github page, the other shows how you can use the command line to upload your notebook.\n"
   ]
  },
  {
   "cell_type": "markdown",
   "metadata": {},
   "source": [
    "Remember to update the README file in your repository to include a link to this notebook on github.\n",
    "\n",
    "\n",
    "The links that you should post start with “github.com/” and are NOT of the form “http://localhost”. Make sure you test your links after uploading."
   ]
  },
  {
   "cell_type": "code",
   "execution_count": null,
   "metadata": {
    "collapsed": true
   },
   "outputs": [],
   "source": []
  }
 ],
 "metadata": {
  "anaconda-cloud": {},
  "kernelspec": {
   "display_name": "Python 3",
   "language": "python",
   "name": "python3"
  },
  "language_info": {
   "codemirror_mode": {
    "name": "ipython",
    "version": 3
   },
   "file_extension": ".py",
   "mimetype": "text/x-python",
   "name": "python",
   "nbconvert_exporter": "python",
   "pygments_lexer": "ipython3",
   "version": "3.6.4"
  }
 },
 "nbformat": 4,
 "nbformat_minor": 1
}
